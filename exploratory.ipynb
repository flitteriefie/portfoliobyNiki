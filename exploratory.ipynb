{
 "cells": [
  {
   "cell_type": "code",
   "execution_count": 1,
   "metadata": {},
   "outputs": [],
   "source": [
    "import pandas as pd\n",
    "import numpy as np"
   ]
  },
  {
   "cell_type": "code",
   "execution_count": 2,
   "metadata": {},
   "outputs": [
    {
     "data": {
      "text/html": [
       "<div>\n",
       "<style scoped>\n",
       "    .dataframe tbody tr th:only-of-type {\n",
       "        vertical-align: middle;\n",
       "    }\n",
       "\n",
       "    .dataframe tbody tr th {\n",
       "        vertical-align: top;\n",
       "    }\n",
       "\n",
       "    .dataframe thead th {\n",
       "        text-align: right;\n",
       "    }\n",
       "</style>\n",
       "<table border=\"1\" class=\"dataframe\">\n",
       "  <thead>\n",
       "    <tr style=\"text-align: right;\">\n",
       "      <th></th>\n",
       "      <th>ID</th>\n",
       "      <th>Date</th>\n",
       "      <th>DateType</th>\n",
       "      <th>Age</th>\n",
       "      <th>Sex</th>\n",
       "      <th>Race</th>\n",
       "      <th>ResidenceCity</th>\n",
       "      <th>ResidenceCounty</th>\n",
       "      <th>ResidenceState</th>\n",
       "      <th>DeathCity</th>\n",
       "      <th>...</th>\n",
       "      <th>Tramad</th>\n",
       "      <th>Morphine_NotHeroin</th>\n",
       "      <th>Hydromorphone</th>\n",
       "      <th>Other</th>\n",
       "      <th>OpiateNOS</th>\n",
       "      <th>AnyOpioid</th>\n",
       "      <th>MannerofDeath</th>\n",
       "      <th>DeathCityGeo</th>\n",
       "      <th>ResidenceCityGeo</th>\n",
       "      <th>InjuryCityGeo</th>\n",
       "    </tr>\n",
       "  </thead>\n",
       "  <tbody>\n",
       "    <tr>\n",
       "      <th>0</th>\n",
       "      <td>14-0273</td>\n",
       "      <td>06/28/2014 12:00:00 AM</td>\n",
       "      <td>DateReported</td>\n",
       "      <td>NaN</td>\n",
       "      <td>NaN</td>\n",
       "      <td>NaN</td>\n",
       "      <td>NaN</td>\n",
       "      <td>NaN</td>\n",
       "      <td>NaN</td>\n",
       "      <td>NaN</td>\n",
       "      <td>...</td>\n",
       "      <td>NaN</td>\n",
       "      <td>NaN</td>\n",
       "      <td>NaN</td>\n",
       "      <td>NaN</td>\n",
       "      <td>NaN</td>\n",
       "      <td>NaN</td>\n",
       "      <td>Accident</td>\n",
       "      <td>CT\\n(41.575155, -72.738288)</td>\n",
       "      <td>CT\\n(41.575155, -72.738288)</td>\n",
       "      <td>CT\\n(41.575155, -72.738288)</td>\n",
       "    </tr>\n",
       "    <tr>\n",
       "      <th>1</th>\n",
       "      <td>13-0102</td>\n",
       "      <td>03/21/2013 12:00:00 AM</td>\n",
       "      <td>DateofDeath</td>\n",
       "      <td>48.0</td>\n",
       "      <td>Male</td>\n",
       "      <td>Black</td>\n",
       "      <td>NORWALK</td>\n",
       "      <td>NaN</td>\n",
       "      <td>NaN</td>\n",
       "      <td>NORWALK</td>\n",
       "      <td>...</td>\n",
       "      <td>NaN</td>\n",
       "      <td>NaN</td>\n",
       "      <td>NaN</td>\n",
       "      <td>NaN</td>\n",
       "      <td>NaN</td>\n",
       "      <td>NaN</td>\n",
       "      <td>Accident</td>\n",
       "      <td>Norwalk, CT\\n(41.11805, -73.412906)</td>\n",
       "      <td>NORWALK, CT\\n(41.11805, -73.412906)</td>\n",
       "      <td>CT\\n(41.575155, -72.738288)</td>\n",
       "    </tr>\n",
       "    <tr>\n",
       "      <th>2</th>\n",
       "      <td>16-0165</td>\n",
       "      <td>03/13/2016 12:00:00 AM</td>\n",
       "      <td>DateofDeath</td>\n",
       "      <td>30.0</td>\n",
       "      <td>Female</td>\n",
       "      <td>White</td>\n",
       "      <td>SANDY HOOK</td>\n",
       "      <td>FAIRFIELD</td>\n",
       "      <td>CT</td>\n",
       "      <td>DANBURY</td>\n",
       "      <td>...</td>\n",
       "      <td>NaN</td>\n",
       "      <td>NaN</td>\n",
       "      <td>NaN</td>\n",
       "      <td>NaN</td>\n",
       "      <td>NaN</td>\n",
       "      <td>Y</td>\n",
       "      <td>Accident</td>\n",
       "      <td>Danbury, CT\\n(41.393666, -73.451539)</td>\n",
       "      <td>SANDY HOOK, CT\\n(41.419998, -73.282501)</td>\n",
       "      <td>NaN</td>\n",
       "    </tr>\n",
       "    <tr>\n",
       "      <th>3</th>\n",
       "      <td>16-0208</td>\n",
       "      <td>03/31/2016 12:00:00 AM</td>\n",
       "      <td>DateofDeath</td>\n",
       "      <td>23.0</td>\n",
       "      <td>Male</td>\n",
       "      <td>White</td>\n",
       "      <td>RYE</td>\n",
       "      <td>WESTCHESTER</td>\n",
       "      <td>NY</td>\n",
       "      <td>GREENWICH</td>\n",
       "      <td>...</td>\n",
       "      <td>NaN</td>\n",
       "      <td>NaN</td>\n",
       "      <td>NaN</td>\n",
       "      <td>NaN</td>\n",
       "      <td>NaN</td>\n",
       "      <td>Y</td>\n",
       "      <td>Accident</td>\n",
       "      <td>Greenwich, CT\\n(41.026526, -73.628549)</td>\n",
       "      <td>NaN</td>\n",
       "      <td>NaN</td>\n",
       "    </tr>\n",
       "    <tr>\n",
       "      <th>4</th>\n",
       "      <td>13-0052</td>\n",
       "      <td>02/13/2013 12:00:00 AM</td>\n",
       "      <td>DateofDeath</td>\n",
       "      <td>22.0</td>\n",
       "      <td>Male</td>\n",
       "      <td>Asian, Other</td>\n",
       "      <td>FLUSHING</td>\n",
       "      <td>QUEENS</td>\n",
       "      <td>NaN</td>\n",
       "      <td>GREENWICH</td>\n",
       "      <td>...</td>\n",
       "      <td>NaN</td>\n",
       "      <td>NaN</td>\n",
       "      <td>NaN</td>\n",
       "      <td>NaN</td>\n",
       "      <td>NaN</td>\n",
       "      <td>NaN</td>\n",
       "      <td>Accident</td>\n",
       "      <td>Greenwich, CT\\n(41.026526, -73.628549)</td>\n",
       "      <td>NaN</td>\n",
       "      <td>CT\\n(41.575155, -72.738288)</td>\n",
       "    </tr>\n",
       "  </tbody>\n",
       "</table>\n",
       "<p>5 rows × 41 columns</p>\n",
       "</div>"
      ],
      "text/plain": [
       "        ID                    Date      DateType   Age     Sex          Race  \\\n",
       "0  14-0273  06/28/2014 12:00:00 AM  DateReported   NaN     NaN           NaN   \n",
       "1  13-0102  03/21/2013 12:00:00 AM   DateofDeath  48.0    Male         Black   \n",
       "2  16-0165  03/13/2016 12:00:00 AM   DateofDeath  30.0  Female         White   \n",
       "3  16-0208  03/31/2016 12:00:00 AM   DateofDeath  23.0    Male         White   \n",
       "4  13-0052  02/13/2013 12:00:00 AM   DateofDeath  22.0    Male  Asian, Other   \n",
       "\n",
       "  ResidenceCity ResidenceCounty ResidenceState  DeathCity  ... Tramad  \\\n",
       "0           NaN             NaN            NaN        NaN  ...    NaN   \n",
       "1       NORWALK             NaN            NaN    NORWALK  ...    NaN   \n",
       "2    SANDY HOOK       FAIRFIELD             CT    DANBURY  ...    NaN   \n",
       "3           RYE     WESTCHESTER             NY  GREENWICH  ...    NaN   \n",
       "4      FLUSHING          QUEENS            NaN  GREENWICH  ...    NaN   \n",
       "\n",
       "  Morphine_NotHeroin Hydromorphone Other OpiateNOS AnyOpioid MannerofDeath  \\\n",
       "0                NaN           NaN   NaN       NaN       NaN      Accident   \n",
       "1                NaN           NaN   NaN       NaN       NaN      Accident   \n",
       "2                NaN           NaN   NaN       NaN         Y      Accident   \n",
       "3                NaN           NaN   NaN       NaN         Y      Accident   \n",
       "4                NaN           NaN   NaN       NaN       NaN      Accident   \n",
       "\n",
       "                             DeathCityGeo  \\\n",
       "0             CT\\n(41.575155, -72.738288)   \n",
       "1     Norwalk, CT\\n(41.11805, -73.412906)   \n",
       "2    Danbury, CT\\n(41.393666, -73.451539)   \n",
       "3  Greenwich, CT\\n(41.026526, -73.628549)   \n",
       "4  Greenwich, CT\\n(41.026526, -73.628549)   \n",
       "\n",
       "                          ResidenceCityGeo                InjuryCityGeo  \n",
       "0              CT\\n(41.575155, -72.738288)  CT\\n(41.575155, -72.738288)  \n",
       "1      NORWALK, CT\\n(41.11805, -73.412906)  CT\\n(41.575155, -72.738288)  \n",
       "2  SANDY HOOK, CT\\n(41.419998, -73.282501)                          NaN  \n",
       "3                                      NaN                          NaN  \n",
       "4                                      NaN  CT\\n(41.575155, -72.738288)  \n",
       "\n",
       "[5 rows x 41 columns]"
      ]
     },
     "execution_count": 2,
     "metadata": {},
     "output_type": "execute_result"
    }
   ],
   "source": [
    "df = pd.read_csv('Accidental_Drug_Related_Deaths_2012-2018.csv')\n",
    "df.head()"
   ]
  },
  {
   "cell_type": "code",
   "execution_count": 3,
   "metadata": {},
   "outputs": [
    {
     "data": {
      "text/plain": [
       "ID                        0\n",
       "Date                      2\n",
       "DateType                  2\n",
       "Age                       3\n",
       "Sex                       6\n",
       "Race                     13\n",
       "ResidenceCity           173\n",
       "ResidenceCounty         797\n",
       "ResidenceState         1549\n",
       "DeathCity                 5\n",
       "DeathCounty            1100\n",
       "Location                 24\n",
       "LocationifOther        4515\n",
       "DescriptionofInjury     780\n",
       "InjuryPlace              66\n",
       "InjuryCity             1756\n",
       "InjuryCounty           2741\n",
       "InjuryState            3681\n",
       "COD                       0\n",
       "OtherSignifican        4936\n",
       "Heroin                 2576\n",
       "Cocaine                3584\n",
       "Fentanyl               2873\n",
       "FentanylAnalogue       4716\n",
       "Oxycodone              4498\n",
       "Oxymorphone            4997\n",
       "Ethanol                3858\n",
       "Hydrocodone            4987\n",
       "Benzodiazepine         3762\n",
       "Methadone              4631\n",
       "Amphet                 4946\n",
       "Tramad                 4975\n",
       "Morphine_NotHeroin     5063\n",
       "Hydromorphone          5080\n",
       "Other                  4670\n",
       "OpiateNOS              5017\n",
       "AnyOpioid              2639\n",
       "MannerofDeath            10\n",
       "DeathCityGeo              0\n",
       "ResidenceCityGeo         93\n",
       "InjuryCityGeo            78\n",
       "dtype: int64"
      ]
     },
     "execution_count": 3,
     "metadata": {},
     "output_type": "execute_result"
    }
   ],
   "source": [
    "df.isna().sum()"
   ]
  },
  {
   "cell_type": "code",
   "execution_count": 4,
   "metadata": {},
   "outputs": [
    {
     "data": {
      "text/plain": [
       "Index(['ID', 'Date', 'DateType', 'Age', 'Sex', 'Race', 'ResidenceCity',\n",
       "       'ResidenceCounty', 'ResidenceState', 'DeathCity', 'DeathCounty',\n",
       "       'Location', 'LocationifOther', 'DescriptionofInjury', 'InjuryPlace',\n",
       "       'InjuryCity', 'InjuryCounty', 'InjuryState', 'COD', 'OtherSignifican',\n",
       "       'Heroin', 'Cocaine', 'Fentanyl', 'FentanylAnalogue', 'Oxycodone',\n",
       "       'Oxymorphone', 'Ethanol', 'Hydrocodone', 'Benzodiazepine', 'Methadone',\n",
       "       'Amphet', 'Tramad', 'Morphine_NotHeroin', 'Hydromorphone', 'Other',\n",
       "       'OpiateNOS', 'AnyOpioid', 'MannerofDeath', 'DeathCityGeo',\n",
       "       'ResidenceCityGeo', 'InjuryCityGeo'],\n",
       "      dtype='object')"
      ]
     },
     "execution_count": 4,
     "metadata": {},
     "output_type": "execute_result"
    }
   ],
   "source": [
    "df.columns"
   ]
  },
  {
   "cell_type": "code",
   "execution_count": 5,
   "metadata": {},
   "outputs": [
    {
     "data": {
      "text/html": [
       "<div>\n",
       "<style scoped>\n",
       "    .dataframe tbody tr th:only-of-type {\n",
       "        vertical-align: middle;\n",
       "    }\n",
       "\n",
       "    .dataframe tbody tr th {\n",
       "        vertical-align: top;\n",
       "    }\n",
       "\n",
       "    .dataframe thead th {\n",
       "        text-align: right;\n",
       "    }\n",
       "</style>\n",
       "<table border=\"1\" class=\"dataframe\">\n",
       "  <thead>\n",
       "    <tr style=\"text-align: right;\">\n",
       "      <th></th>\n",
       "      <th>ID</th>\n",
       "      <th>Date</th>\n",
       "      <th>DateType</th>\n",
       "      <th>Age</th>\n",
       "      <th>Sex</th>\n",
       "      <th>Race</th>\n",
       "      <th>DeathCity</th>\n",
       "      <th>DeathCounty</th>\n",
       "      <th>COD</th>\n",
       "      <th>Heroin</th>\n",
       "      <th>...</th>\n",
       "      <th>Benzodiazepine</th>\n",
       "      <th>Methadone</th>\n",
       "      <th>Amphet</th>\n",
       "      <th>Tramad</th>\n",
       "      <th>Morphine_NotHeroin</th>\n",
       "      <th>Hydromorphone</th>\n",
       "      <th>Other</th>\n",
       "      <th>OpiateNOS</th>\n",
       "      <th>AnyOpioid</th>\n",
       "      <th>MannerofDeath</th>\n",
       "    </tr>\n",
       "  </thead>\n",
       "  <tbody>\n",
       "    <tr>\n",
       "      <th>0</th>\n",
       "      <td>14-0273</td>\n",
       "      <td>06/28/2014 12:00:00 AM</td>\n",
       "      <td>DateReported</td>\n",
       "      <td>NaN</td>\n",
       "      <td>NaN</td>\n",
       "      <td>NaN</td>\n",
       "      <td>NaN</td>\n",
       "      <td>NaN</td>\n",
       "      <td>Acute fent, hydrocod, benzodiazepine</td>\n",
       "      <td>NaN</td>\n",
       "      <td>...</td>\n",
       "      <td>Y</td>\n",
       "      <td>NaN</td>\n",
       "      <td>NaN</td>\n",
       "      <td>NaN</td>\n",
       "      <td>NaN</td>\n",
       "      <td>NaN</td>\n",
       "      <td>NaN</td>\n",
       "      <td>NaN</td>\n",
       "      <td>NaN</td>\n",
       "      <td>Accident</td>\n",
       "    </tr>\n",
       "    <tr>\n",
       "      <th>1</th>\n",
       "      <td>13-0102</td>\n",
       "      <td>03/21/2013 12:00:00 AM</td>\n",
       "      <td>DateofDeath</td>\n",
       "      <td>48.0</td>\n",
       "      <td>Male</td>\n",
       "      <td>Black</td>\n",
       "      <td>NORWALK</td>\n",
       "      <td>FAIRFIELD</td>\n",
       "      <td>Cocaine Intoxication</td>\n",
       "      <td>NaN</td>\n",
       "      <td>...</td>\n",
       "      <td>NaN</td>\n",
       "      <td>NaN</td>\n",
       "      <td>NaN</td>\n",
       "      <td>NaN</td>\n",
       "      <td>NaN</td>\n",
       "      <td>NaN</td>\n",
       "      <td>NaN</td>\n",
       "      <td>NaN</td>\n",
       "      <td>NaN</td>\n",
       "      <td>Accident</td>\n",
       "    </tr>\n",
       "    <tr>\n",
       "      <th>2</th>\n",
       "      <td>16-0165</td>\n",
       "      <td>03/13/2016 12:00:00 AM</td>\n",
       "      <td>DateofDeath</td>\n",
       "      <td>30.0</td>\n",
       "      <td>Female</td>\n",
       "      <td>White</td>\n",
       "      <td>DANBURY</td>\n",
       "      <td>NaN</td>\n",
       "      <td>Acute Heroin and Cocaine Intoxication</td>\n",
       "      <td>Y</td>\n",
       "      <td>...</td>\n",
       "      <td>NaN</td>\n",
       "      <td>NaN</td>\n",
       "      <td>NaN</td>\n",
       "      <td>NaN</td>\n",
       "      <td>NaN</td>\n",
       "      <td>NaN</td>\n",
       "      <td>NaN</td>\n",
       "      <td>NaN</td>\n",
       "      <td>Y</td>\n",
       "      <td>Accident</td>\n",
       "    </tr>\n",
       "    <tr>\n",
       "      <th>3</th>\n",
       "      <td>16-0208</td>\n",
       "      <td>03/31/2016 12:00:00 AM</td>\n",
       "      <td>DateofDeath</td>\n",
       "      <td>23.0</td>\n",
       "      <td>Male</td>\n",
       "      <td>White</td>\n",
       "      <td>GREENWICH</td>\n",
       "      <td>NaN</td>\n",
       "      <td>Acute Fentanyl and Morphine Intoxication</td>\n",
       "      <td>Y</td>\n",
       "      <td>...</td>\n",
       "      <td>NaN</td>\n",
       "      <td>NaN</td>\n",
       "      <td>NaN</td>\n",
       "      <td>NaN</td>\n",
       "      <td>NaN</td>\n",
       "      <td>NaN</td>\n",
       "      <td>NaN</td>\n",
       "      <td>NaN</td>\n",
       "      <td>Y</td>\n",
       "      <td>Accident</td>\n",
       "    </tr>\n",
       "    <tr>\n",
       "      <th>4</th>\n",
       "      <td>13-0052</td>\n",
       "      <td>02/13/2013 12:00:00 AM</td>\n",
       "      <td>DateofDeath</td>\n",
       "      <td>22.0</td>\n",
       "      <td>Male</td>\n",
       "      <td>Asian, Other</td>\n",
       "      <td>GREENWICH</td>\n",
       "      <td>FAIRFIELD</td>\n",
       "      <td>Fentanyl Intoxication</td>\n",
       "      <td>NaN</td>\n",
       "      <td>...</td>\n",
       "      <td>NaN</td>\n",
       "      <td>NaN</td>\n",
       "      <td>NaN</td>\n",
       "      <td>NaN</td>\n",
       "      <td>NaN</td>\n",
       "      <td>NaN</td>\n",
       "      <td>NaN</td>\n",
       "      <td>NaN</td>\n",
       "      <td>NaN</td>\n",
       "      <td>Accident</td>\n",
       "    </tr>\n",
       "  </tbody>\n",
       "</table>\n",
       "<p>5 rows × 27 columns</p>\n",
       "</div>"
      ],
      "text/plain": [
       "        ID                    Date      DateType   Age     Sex          Race  \\\n",
       "0  14-0273  06/28/2014 12:00:00 AM  DateReported   NaN     NaN           NaN   \n",
       "1  13-0102  03/21/2013 12:00:00 AM   DateofDeath  48.0    Male         Black   \n",
       "2  16-0165  03/13/2016 12:00:00 AM   DateofDeath  30.0  Female         White   \n",
       "3  16-0208  03/31/2016 12:00:00 AM   DateofDeath  23.0    Male         White   \n",
       "4  13-0052  02/13/2013 12:00:00 AM   DateofDeath  22.0    Male  Asian, Other   \n",
       "\n",
       "   DeathCity DeathCounty                                       COD Heroin  \\\n",
       "0        NaN         NaN      Acute fent, hydrocod, benzodiazepine    NaN   \n",
       "1    NORWALK   FAIRFIELD                      Cocaine Intoxication    NaN   \n",
       "2    DANBURY         NaN     Acute Heroin and Cocaine Intoxication      Y   \n",
       "3  GREENWICH         NaN  Acute Fentanyl and Morphine Intoxication      Y   \n",
       "4  GREENWICH   FAIRFIELD                     Fentanyl Intoxication    NaN   \n",
       "\n",
       "   ... Benzodiazepine Methadone Amphet Tramad Morphine_NotHeroin  \\\n",
       "0  ...              Y       NaN    NaN    NaN                NaN   \n",
       "1  ...            NaN       NaN    NaN    NaN                NaN   \n",
       "2  ...            NaN       NaN    NaN    NaN                NaN   \n",
       "3  ...            NaN       NaN    NaN    NaN                NaN   \n",
       "4  ...            NaN       NaN    NaN    NaN                NaN   \n",
       "\n",
       "  Hydromorphone Other OpiateNOS AnyOpioid MannerofDeath  \n",
       "0           NaN   NaN       NaN       NaN      Accident  \n",
       "1           NaN   NaN       NaN       NaN      Accident  \n",
       "2           NaN   NaN       NaN         Y      Accident  \n",
       "3           NaN   NaN       NaN         Y      Accident  \n",
       "4           NaN   NaN       NaN       NaN      Accident  \n",
       "\n",
       "[5 rows x 27 columns]"
      ]
     },
     "execution_count": 5,
     "metadata": {},
     "output_type": "execute_result"
    }
   ],
   "source": [
    "data = df[['ID', 'Date', 'DateType', 'Age', 'Sex', 'Race', 'DeathCity', 'DeathCounty',\n",
    "           'COD', 'Heroin', 'Cocaine', 'Fentanyl', 'FentanylAnalogue', 'Oxycodone',\n",
    "           'Oxymorphone', 'Ethanol', 'Hydrocodone', 'Benzodiazepine', 'Methadone',\n",
    "           'Amphet', 'Tramad', 'Morphine_NotHeroin', 'Hydromorphone', 'Other',\n",
    "           'OpiateNOS', 'AnyOpioid', 'MannerofDeath']]\n",
    "data.head()"
   ]
  },
  {
   "cell_type": "code",
   "execution_count": 6,
   "metadata": {},
   "outputs": [
    {
     "name": "stdout",
     "output_type": "stream",
     "text": [
      "['14-0273' '13-0102' '16-0165' ... '18-0646' '14-0124' '16-0637']\n",
      "['06/28/2014 12:00:00 AM' '03/21/2013 12:00:00 AM'\n",
      " '03/13/2016 12:00:00 AM' ... '12/26/2016 12:00:00 AM'\n",
      " '12/02/2017 12:00:00 AM' '09/15/2016 12:00:00 AM']\n",
      "['DateReported' 'DateofDeath' nan]\n",
      "[nan 48. 30. 23. 22. 21. 40. 50. 26. 49. 29. 45. 42. 54. 32. 47. 39. 27.\n",
      " 34. 25. 51. 35. 43. 55. 56. 28. 67. 36. 52. 61. 53. 41. 31. 57. 24. 37.\n",
      " 38. 58. 59. 46. 64. 60. 44. 33. 20. 19. 66. 63. 62. 65. 71. 73. 68. 69.\n",
      " 75. 72. 18. 15. 70. 17. 74. 84. 14. 87. 81. 16.]\n",
      "[nan 'Male' 'Female' 'Unknown']\n",
      "[nan 'Black' 'White' 'Asian, Other' 'Hispanic, White' 'Asian Indian'\n",
      " 'Hispanic, Black' 'Unknown' 'Other' 'Chinese' 'Native American, Other'\n",
      " 'Hawaiian']\n",
      "[nan 'NORWALK' 'DANBURY' 'GREENWICH' 'BRISTOL' 'WEST HARTFORD' 'NEW HAVEN'\n",
      " 'EAST HARTFORD' 'MONTVILLE' 'STRATFORD' 'HARTFORD' 'WALLINGFORD'\n",
      " 'MIDDLETOWN' 'WINDHAM' 'BRIDGEPORT' 'DERBY' 'COS COB' 'MERIDEN' 'ENFIELD'\n",
      " 'TORRINGTON' 'WATERBURY' 'MASHANTUCKET' 'MILFORD' 'SOMERS' 'STAMFORD'\n",
      " 'NEW BRITAIN' 'WILLIMANTIC' 'WATERTOWN' 'BALTIC' 'RIDGEFIELD'\n",
      " 'NEW LONDON' 'BROOKFIELD' 'SHELTON' 'NORWICH' 'NAUGATUCK' 'VERNON'\n",
      " 'FAIRFIELD' 'EAST HAMPTON' 'SHARON' 'MONROE' 'WINCHESTER' 'BRANFORD'\n",
      " 'MANCHESTER' 'WOLCOTT' 'WEST SUFFIELD' 'FARMINGTON' 'NORTH BRANFORD'\n",
      " 'NEW MILFORD' 'STONINGTON' 'PRESTON' 'GROTON' 'SOUTHINGTON'\n",
      " 'SOUTH WINDSOR' 'JEWETT CITY' 'EAST WINDSOR' 'OLD SAYBROOK' 'BROAD BROOK'\n",
      " 'PORTLAND' 'HEBRON' 'DARIEN' 'LEDYARD' 'TRUMBULL' 'BURLINGTON'\n",
      " 'BLOOMFIELD' 'TERRYVILLE' 'STAFFORD SPRINGS' 'WEST HAVEN' 'THOMPSON'\n",
      " 'OXFORD' 'DANIELSON' 'POMFRET' 'MARLBOROUGH' 'OAKVILLE' 'NEWTOWN'\n",
      " 'ROCKY HILL' 'EAST HAVEN' 'HAMDEN' 'AVON' 'SEYMOUR' 'PLAINVILLE'\n",
      " 'COLCHESTER' 'SOUTHBURY' 'STAFFORD' 'ANSONIA' 'MOOSUP' 'KILLINGLY'\n",
      " 'BEACON FALLS' 'CLINTON' 'OLD LYME' 'SANDY HOOK' 'BROOKLYN' 'UNCASVILLE'\n",
      " 'WINDSOR' 'WOODBURY' 'FRANKLIN' 'SALISBURY' 'WASHINGTON' 'BRIDGEWATER'\n",
      " 'BETHEL' 'BANTAM' 'MYSTIC' 'WILTON' 'WINDSOR LOCKS' 'LEBANON'\n",
      " 'GLASTONBURY' 'QUAKER HILL' 'WOODSTOCK' 'COVENTRY' 'COLUMBIA' 'BERLIN'\n",
      " 'PUTNAM' 'SALEM' 'ESSEX' 'PLAINFIELD' 'WETHERSFIELD' 'CANTON' 'DURHAM'\n",
      " 'CANTERBURY' 'SUFFIELD' 'SIMSBURY' 'NORTH CANAAN' 'WATERFORD'\n",
      " 'KILLINGWORTH' 'CROMWELL' 'WILLINGTON' 'MIDDLEFIELD' 'VOLUNTOWN'\n",
      " 'THOMASTON' 'NEWINGTON' 'MORRIS' 'ASHFORD' 'DEEP RIVER' 'CENTRAL VILLAGE'\n",
      " 'EAST LYME' 'MADISON' 'UNIONVILLE' 'WINSTED' 'HARWINTON' 'WOODBRIDGE'\n",
      " 'WESTBROOK' 'BETHANY' 'NIANTIC' 'CHESHIRE' 'QUINEBAUG' 'TOLLAND'\n",
      " 'MANSFIELD' 'WAUREGAN' 'PAWCATUCK' 'GRISWOLD' 'STORRS' 'VERNON-ROCKVILLE'\n",
      " 'SHERMAN' 'LISBON' 'DAYVILLE' 'EAST GRANBY' 'REDDING' 'GALES FERRY'\n",
      " 'PLYMOUTH' 'NORTH HAVEN' 'N HAVEN' 'ELLINGTON' 'MIDDLEBURY'\n",
      " 'CORNWALL BRIDGE' 'HANOVER' 'STERLING' 'NORTH GROSVENORDALE'\n",
      " 'NEW HARTFORD' 'BOLTON' 'HAMPTON' 'BETHLEHEM' 'TARIFFVILLE' 'PROSPECT'\n",
      " 'GUILFORD' 'NEW FAIRFIELD' 'NORTH WINDAM' 'OAKDALE' 'EASTON'\n",
      " 'EAST HADDAM' 'GROTON LONG POINT' 'BARKHAMSTED' 'HIGGANUM' 'NO HAVEN'\n",
      " 'TAFTVILLE' 'STAFFORD SPGS' 'IVORYTON' 'LITCHFIELD' 'PLANTSVILLE'\n",
      " 'ORANGE' 'CHAPLIN' 'NORTH STONINGTON' 'SPRAGUE' 'ANDOVER' 'EAST HARTLAND'\n",
      " 'CHESTER' 'WESTPORT' 'W HAVEN' 'WESTON' 'ROCKVILLE' 'MOODUS'\n",
      " 'NORTH GRANBY' 'EAST CANAAN' 'NORTHFORD' 'GRANBY' 'NEW CANAAN'\n",
      " 'WEST STAFFORD' 'ONECO' 'NEW PRESTON' 'WEATOGUE' 'WARREN' 'HADDAM'\n",
      " 'EASTFORD' 'KENT' 'BOZRAH' 'S GLASTONBURY' 'NORTH WINDHAM' 'BAKERSVILLE'\n",
      " 'AMSTON' 'GOSHEN' 'NEW CANNAN' 'EAST WOODSTOCK' 'ROGERS' '06340'\n",
      " 'NORFOLK']\n",
      "[nan 'FAIRFIELD' 'HARTFORD' 'NEW HAVEN' 'NEW LONDON' 'LITCHFIELD'\n",
      " 'MIDDLESEX' 'WINDHAM' 'TOLLAND' 'USA']\n",
      "['Acute fent, hydrocod, benzodiazepine' 'Cocaine Intoxication'\n",
      " 'Acute Heroin and Cocaine Intoxication' ...\n",
      " 'Acute Intoxication due to the Combined Effects of Ethanol, Diazepam, and Chlordiazepoxide'\n",
      " 'Multidrug Toxicity Including Heroin, Alprazolam, and Clonazepam'\n",
      " 'Multidrug Toxicity Including Heroin, Fentanyl, 4-ANPP, para-Fluoroisobutyrylfentanyl, and Tramadol']\n",
      "[nan 'Y']\n",
      "[nan 'Y']\n",
      "['Y' nan 'Y-A' 'Y POPS' 'Y (PTCH)']\n",
      "[nan 'Y']\n",
      "[nan 'Y']\n",
      "[nan 'Y']\n",
      "[nan 'Y']\n",
      "['Y' nan]\n",
      "['Y' nan]\n",
      "[nan 'Y']\n",
      "[nan 'Y']\n",
      "[nan 'Y']\n",
      "[nan 'Y' 'YES' 'STOLE MEDS' 'NO RX BUT STRAWS' 'PCP NEG']\n",
      "[nan 'Y']\n",
      "[nan 'Bupren' 'lsd, hydromorph' 'opiate' 'BUPREN' 'HYDROMORPH' 'OTHERS'\n",
      " 'pcp' 'PCP' 'ketamine' 'meperidine' 'opiate screen' 'MDMA' 'COD' 'PAROX'\n",
      " 'carfentanil' 'hydromorph' 'DUSTER' 'DIPHENHYDRAMINE' 'Buprenor'\n",
      " 'HYDRO MORPH' 'BUPRE' 'MORPHINE' 'morphine' 'MORPH' 'hyd-morph' 'U47700'\n",
      " 'DOX, DIPHEN' 'opiates' 'Buprenor, carfentanil' 'mdma' 'SERT'\n",
      " 'TAPENTADOL' '4-anpp' 'methoxyPCP' 'N-ETHYL-PENTYLONE' 'PCP, HYDROMORPH'\n",
      " 'Mirtagynine' 'UK' 'HYDROMORP' 'U-47700' 'difluro'\n",
      " 'DIPHENHYDRAMINE, ZOLPIDEM' '4-ANPP' 'BUPRENORPHINE' 'Difluro' 'H-MORPH'\n",
      " 'BUPRENORP' 'U-47700 synthetic opioid' 'OPIATE' 'Buprnor' 'morphine RX'\n",
      " 'opioid' 'OPIOID NOS' 'BUPRENOR' 'CATHINONE' 'LOPERAMIDE' 'codeine' 'GHB'\n",
      " 'hydromorp' 'BUTALBITAL' 'Morphine' 'PCP, N-ETHYL-PENTYLONE'\n",
      " 'Bupren, HEXADRONE' 'bupren' 'HYDR-MOR' 'pos 6-mam' 'Rx morphine'\n",
      " 'Bupreno' 'MEPERIDINE' 'others' 'morphine no 6mam' 'U-47700, carfentanil'\n",
      " 'uk' 'mitragine' 'BUPRENORPHONE' 'MDMA, PCP' 'DIPHENHY' 'OPIATE IN HOSP?'\n",
      " 'Opiate screen' 'BUPRENO' 'HYDROMORPH, BUPRENOR' 'QUIET' 'HYDROM'\n",
      " 'difluror' 'KET' 'BUPRENORPH' 'bath salt' 'Mitragynine' 'Hydromorph'\n",
      " 'MORPHINE/HYDROMORPH' 'buprenor' '2-A' 'pcp. Bupren' 'tapentadol'\n",
      " 'buprop' 'TOPIRAMATE' 'KETAMINE' 'snorted' 'HYDRMORP'\n",
      " 'MDMA, N-ETHYL-PENTYLONE' 'BUTALB' 'BUPREN, DIFLUORO' 'zolpidem'\n",
      " 'Difluor' 'Buprenophine' 'MORPHIINE' 'DIPHENH' 'CODEINE' 'Duster'\n",
      " 'PCP, MORPHINE NOS' 'Doxy, phenobarb' 'PCP, Buprenor' 'morphin'\n",
      " 'DIFLOURO' 'DIFLURO' 'morphine/cod' 'MORPHINE RX' 'Codeine'\n",
      " 'MORPHINE, HYDROMORPH' 'MORPH NOS' 'difluoroeth' 'MORPH/COD' 'duster'\n",
      " 'morphine, no rx in pmp' 'phenobarb' 'HYROMORPH' 'ZOLP' 'Buprno'\n",
      " 'mORPHINE' 'Opiate' 'diphen, chlorphen' 'HYDMORPH' 'PSEUDO' 'MORPH PCP']\n",
      "[nan 'Y']\n",
      "[nan 'Y' 'N']\n",
      "['Accident' 'accident' nan 'Pending' 'ACCIDENT' 'Natural']\n"
     ]
    }
   ],
   "source": [
    "for c in data:\n",
    "    print(data[c].unique())"
   ]
  },
  {
   "cell_type": "code",
   "execution_count": 7,
   "metadata": {},
   "outputs": [
    {
     "data": {
      "text/plain": [
       "ID                     object\n",
       "Date                   object\n",
       "DateType               object\n",
       "Age                   float64\n",
       "Sex                    object\n",
       "Race                   object\n",
       "DeathCity              object\n",
       "DeathCounty            object\n",
       "COD                    object\n",
       "Heroin                 object\n",
       "Cocaine                object\n",
       "Fentanyl               object\n",
       "FentanylAnalogue       object\n",
       "Oxycodone              object\n",
       "Oxymorphone            object\n",
       "Ethanol                object\n",
       "Hydrocodone            object\n",
       "Benzodiazepine         object\n",
       "Methadone              object\n",
       "Amphet                 object\n",
       "Tramad                 object\n",
       "Morphine_NotHeroin     object\n",
       "Hydromorphone          object\n",
       "Other                  object\n",
       "OpiateNOS              object\n",
       "AnyOpioid              object\n",
       "MannerofDeath          object\n",
       "dtype: object"
      ]
     },
     "execution_count": 7,
     "metadata": {},
     "output_type": "execute_result"
    }
   ],
   "source": [
    "data.dtypes"
   ]
  },
  {
   "cell_type": "code",
   "execution_count": 8,
   "metadata": {},
   "outputs": [
    {
     "name": "stderr",
     "output_type": "stream",
     "text": [
      "C:\\Users\\sznik\\Anaconda3\\lib\\site-packages\\ipykernel_launcher.py:1: SettingWithCopyWarning: \n",
      "A value is trying to be set on a copy of a slice from a DataFrame.\n",
      "Try using .loc[row_indexer,col_indexer] = value instead\n",
      "\n",
      "See the caveats in the documentation: https://pandas.pydata.org/pandas-docs/stable/user_guide/indexing.html#returning-a-view-versus-a-copy\n",
      "  \"\"\"Entry point for launching an IPython kernel.\n"
     ]
    },
    {
     "data": {
      "text/plain": [
       "0      2014-06-28\n",
       "1      2013-03-21\n",
       "2      2016-03-13\n",
       "3      2016-03-31\n",
       "4      2013-02-13\n",
       "          ...    \n",
       "5100   2015-09-08\n",
       "5101   2017-07-22\n",
       "5102   2018-08-14\n",
       "5103   2014-03-16\n",
       "5104   2016-09-15\n",
       "Name: Date, Length: 5105, dtype: datetime64[ns]"
      ]
     },
     "execution_count": 8,
     "metadata": {},
     "output_type": "execute_result"
    }
   ],
   "source": [
    "data[\"Date\"] = pd.to_datetime(data[\"Date\"])\n",
    "data[\"Date\"]"
   ]
  },
  {
   "cell_type": "code",
   "execution_count": 9,
   "metadata": {},
   "outputs": [
    {
     "data": {
      "text/plain": [
       "array(['Accident', 'accident', nan, 'Pending', 'ACCIDENT', 'Natural'],\n",
       "      dtype=object)"
      ]
     },
     "execution_count": 9,
     "metadata": {},
     "output_type": "execute_result"
    }
   ],
   "source": [
    "data['MannerofDeath'].unique()"
   ]
  },
  {
   "cell_type": "code",
   "execution_count": 10,
   "metadata": {},
   "outputs": [
    {
     "name": "stderr",
     "output_type": "stream",
     "text": [
      "C:\\Users\\sznik\\Anaconda3\\lib\\site-packages\\ipykernel_launcher.py:1: SettingWithCopyWarning: \n",
      "A value is trying to be set on a copy of a slice from a DataFrame.\n",
      "Try using .loc[row_indexer,col_indexer] = value instead\n",
      "\n",
      "See the caveats in the documentation: https://pandas.pydata.org/pandas-docs/stable/user_guide/indexing.html#returning-a-view-versus-a-copy\n",
      "  \"\"\"Entry point for launching an IPython kernel.\n"
     ]
    }
   ],
   "source": [
    "data['MannerofDeath'] = data['MannerofDeath'].str.lower()"
   ]
  },
  {
   "cell_type": "code",
   "execution_count": 11,
   "metadata": {},
   "outputs": [
    {
     "data": {
      "text/plain": [
       "array(['accident', nan, 'pending', 'natural'], dtype=object)"
      ]
     },
     "execution_count": 11,
     "metadata": {},
     "output_type": "execute_result"
    }
   ],
   "source": [
    "data['MannerofDeath'].unique()"
   ]
  },
  {
   "cell_type": "code",
   "execution_count": 12,
   "metadata": {},
   "outputs": [
    {
     "name": "stderr",
     "output_type": "stream",
     "text": [
      "C:\\Users\\sznik\\Anaconda3\\lib\\site-packages\\ipykernel_launcher.py:1: SettingWithCopyWarning: \n",
      "A value is trying to be set on a copy of a slice from a DataFrame.\n",
      "Try using .loc[row_indexer,col_indexer] = value instead\n",
      "\n",
      "See the caveats in the documentation: https://pandas.pydata.org/pandas-docs/stable/user_guide/indexing.html#returning-a-view-versus-a-copy\n",
      "  \"\"\"Entry point for launching an IPython kernel.\n"
     ]
    }
   ],
   "source": [
    "data['MannerofDeath'] = data['MannerofDeath'].replace(np.nan, 'unknown')"
   ]
  },
  {
   "cell_type": "code",
   "execution_count": 13,
   "metadata": {},
   "outputs": [
    {
     "data": {
      "text/plain": [
       "array(['accident', 'unknown', 'pending', 'natural'], dtype=object)"
      ]
     },
     "execution_count": 13,
     "metadata": {},
     "output_type": "execute_result"
    }
   ],
   "source": [
    "data['MannerofDeath'].unique()"
   ]
  },
  {
   "cell_type": "code",
   "execution_count": 14,
   "metadata": {},
   "outputs": [
    {
     "data": {
      "text/plain": [
       "Index(['ID', 'Date', 'DateType', 'Age', 'Sex', 'Race', 'DeathCity',\n",
       "       'DeathCounty', 'COD', 'Heroin', 'Cocaine', 'Fentanyl',\n",
       "       'FentanylAnalogue', 'Oxycodone', 'Oxymorphone', 'Ethanol',\n",
       "       'Hydrocodone', 'Benzodiazepine', 'Methadone', 'Amphet', 'Tramad',\n",
       "       'Morphine_NotHeroin', 'Hydromorphone', 'Other', 'OpiateNOS',\n",
       "       'AnyOpioid', 'MannerofDeath'],\n",
       "      dtype='object')"
      ]
     },
     "execution_count": 14,
     "metadata": {},
     "output_type": "execute_result"
    }
   ],
   "source": [
    "data.columns"
   ]
  },
  {
   "cell_type": "code",
   "execution_count": 15,
   "metadata": {},
   "outputs": [
    {
     "data": {
      "text/plain": [
       "array([nan, 48., 30., 23., 22., 21., 40., 50., 26., 49., 29., 45., 42.,\n",
       "       54., 32., 47., 39., 27., 34., 25., 51., 35., 43., 55., 56., 28.,\n",
       "       67., 36., 52., 61., 53., 41., 31., 57., 24., 37., 38., 58., 59.,\n",
       "       46., 64., 60., 44., 33., 20., 19., 66., 63., 62., 65., 71., 73.,\n",
       "       68., 69., 75., 72., 18., 15., 70., 17., 74., 84., 14., 87., 81.,\n",
       "       16.])"
      ]
     },
     "execution_count": 15,
     "metadata": {},
     "output_type": "execute_result"
    }
   ],
   "source": [
    "data['Age'].unique()"
   ]
  },
  {
   "cell_type": "code",
   "execution_count": 16,
   "metadata": {},
   "outputs": [
    {
     "name": "stderr",
     "output_type": "stream",
     "text": [
      "C:\\Users\\sznik\\Anaconda3\\lib\\site-packages\\ipykernel_launcher.py:1: SettingWithCopyWarning: \n",
      "A value is trying to be set on a copy of a slice from a DataFrame.\n",
      "Try using .loc[row_indexer,col_indexer] = value instead\n",
      "\n",
      "See the caveats in the documentation: https://pandas.pydata.org/pandas-docs/stable/user_guide/indexing.html#returning-a-view-versus-a-copy\n",
      "  \"\"\"Entry point for launching an IPython kernel.\n"
     ]
    }
   ],
   "source": [
    "data['Age'] = data['Age'].replace(np.nan, 'unknown')"
   ]
  },
  {
   "cell_type": "code",
   "execution_count": 17,
   "metadata": {},
   "outputs": [
    {
     "data": {
      "text/plain": [
       "array(['unknown', 48.0, 30.0, 23.0, 22.0, 21.0, 40.0, 50.0, 26.0, 49.0,\n",
       "       29.0, 45.0, 42.0, 54.0, 32.0, 47.0, 39.0, 27.0, 34.0, 25.0, 51.0,\n",
       "       35.0, 43.0, 55.0, 56.0, 28.0, 67.0, 36.0, 52.0, 61.0, 53.0, 41.0,\n",
       "       31.0, 57.0, 24.0, 37.0, 38.0, 58.0, 59.0, 46.0, 64.0, 60.0, 44.0,\n",
       "       33.0, 20.0, 19.0, 66.0, 63.0, 62.0, 65.0, 71.0, 73.0, 68.0, 69.0,\n",
       "       75.0, 72.0, 18.0, 15.0, 70.0, 17.0, 74.0, 84.0, 14.0, 87.0, 81.0,\n",
       "       16.0], dtype=object)"
      ]
     },
     "execution_count": 17,
     "metadata": {},
     "output_type": "execute_result"
    }
   ],
   "source": [
    "data['Age'].unique()"
   ]
  },
  {
   "cell_type": "code",
   "execution_count": 18,
   "metadata": {},
   "outputs": [
    {
     "data": {
      "text/plain": [
       "array([nan, 'Male', 'Female', 'Unknown'], dtype=object)"
      ]
     },
     "execution_count": 18,
     "metadata": {},
     "output_type": "execute_result"
    }
   ],
   "source": [
    "data['Sex'].unique()"
   ]
  },
  {
   "cell_type": "code",
   "execution_count": 19,
   "metadata": {},
   "outputs": [
    {
     "name": "stderr",
     "output_type": "stream",
     "text": [
      "C:\\Users\\sznik\\Anaconda3\\lib\\site-packages\\ipykernel_launcher.py:1: SettingWithCopyWarning: \n",
      "A value is trying to be set on a copy of a slice from a DataFrame.\n",
      "Try using .loc[row_indexer,col_indexer] = value instead\n",
      "\n",
      "See the caveats in the documentation: https://pandas.pydata.org/pandas-docs/stable/user_guide/indexing.html#returning-a-view-versus-a-copy\n",
      "  \"\"\"Entry point for launching an IPython kernel.\n"
     ]
    }
   ],
   "source": [
    "data['Sex'] = data['Sex'].replace(np.nan, 'Unknown')"
   ]
  },
  {
   "cell_type": "code",
   "execution_count": 20,
   "metadata": {},
   "outputs": [
    {
     "name": "stderr",
     "output_type": "stream",
     "text": [
      "C:\\Users\\sznik\\Anaconda3\\lib\\site-packages\\ipykernel_launcher.py:1: SettingWithCopyWarning: \n",
      "A value is trying to be set on a copy of a slice from a DataFrame.\n",
      "Try using .loc[row_indexer,col_indexer] = value instead\n",
      "\n",
      "See the caveats in the documentation: https://pandas.pydata.org/pandas-docs/stable/user_guide/indexing.html#returning-a-view-versus-a-copy\n",
      "  \"\"\"Entry point for launching an IPython kernel.\n"
     ]
    }
   ],
   "source": [
    "data['Sex'] = data['Sex'].str.lower()"
   ]
  },
  {
   "cell_type": "code",
   "execution_count": 21,
   "metadata": {},
   "outputs": [
    {
     "data": {
      "text/plain": [
       "array(['unknown', 'male', 'female'], dtype=object)"
      ]
     },
     "execution_count": 21,
     "metadata": {},
     "output_type": "execute_result"
    }
   ],
   "source": [
    "data['Sex'].unique()"
   ]
  },
  {
   "cell_type": "code",
   "execution_count": 22,
   "metadata": {},
   "outputs": [
    {
     "data": {
      "text/plain": [
       "array([nan, 'Black', 'White', 'Asian, Other', 'Hispanic, White',\n",
       "       'Asian Indian', 'Hispanic, Black', 'Unknown', 'Other', 'Chinese',\n",
       "       'Native American, Other', 'Hawaiian'], dtype=object)"
      ]
     },
     "execution_count": 22,
     "metadata": {},
     "output_type": "execute_result"
    }
   ],
   "source": [
    "data['Race'].unique()"
   ]
  },
  {
   "cell_type": "code",
   "execution_count": 23,
   "metadata": {},
   "outputs": [
    {
     "name": "stderr",
     "output_type": "stream",
     "text": [
      "C:\\Users\\sznik\\Anaconda3\\lib\\site-packages\\ipykernel_launcher.py:1: SettingWithCopyWarning: \n",
      "A value is trying to be set on a copy of a slice from a DataFrame.\n",
      "Try using .loc[row_indexer,col_indexer] = value instead\n",
      "\n",
      "See the caveats in the documentation: https://pandas.pydata.org/pandas-docs/stable/user_guide/indexing.html#returning-a-view-versus-a-copy\n",
      "  \"\"\"Entry point for launching an IPython kernel.\n",
      "C:\\Users\\sznik\\Anaconda3\\lib\\site-packages\\ipykernel_launcher.py:2: SettingWithCopyWarning: \n",
      "A value is trying to be set on a copy of a slice from a DataFrame.\n",
      "Try using .loc[row_indexer,col_indexer] = value instead\n",
      "\n",
      "See the caveats in the documentation: https://pandas.pydata.org/pandas-docs/stable/user_guide/indexing.html#returning-a-view-versus-a-copy\n",
      "  \n"
     ]
    }
   ],
   "source": [
    "data['Race'] = data['Race'].replace(np.nan, 'Unknown')\n",
    "data['Race'] = data['Race'].str.lower()"
   ]
  },
  {
   "cell_type": "code",
   "execution_count": 24,
   "metadata": {},
   "outputs": [
    {
     "data": {
      "text/plain": [
       "array(['unknown', 'black', 'white', 'asian, other', 'hispanic, white',\n",
       "       'asian indian', 'hispanic, black', 'other', 'chinese',\n",
       "       'native american, other', 'hawaiian'], dtype=object)"
      ]
     },
     "execution_count": 24,
     "metadata": {},
     "output_type": "execute_result"
    }
   ],
   "source": [
    "data['Race'].unique()"
   ]
  },
  {
   "cell_type": "code",
   "execution_count": 25,
   "metadata": {},
   "outputs": [
    {
     "data": {
      "text/plain": [
       "array([nan, 'NORWALK', 'DANBURY', 'GREENWICH', 'BRISTOL', 'WEST HARTFORD',\n",
       "       'NEW HAVEN', 'EAST HARTFORD', 'MONTVILLE', 'STRATFORD', 'HARTFORD',\n",
       "       'WALLINGFORD', 'MIDDLETOWN', 'WINDHAM', 'BRIDGEPORT', 'DERBY',\n",
       "       'COS COB', 'MERIDEN', 'ENFIELD', 'TORRINGTON', 'WATERBURY',\n",
       "       'MASHANTUCKET', 'MILFORD', 'SOMERS', 'STAMFORD', 'NEW BRITAIN',\n",
       "       'WILLIMANTIC', 'WATERTOWN', 'BALTIC', 'RIDGEFIELD', 'NEW LONDON',\n",
       "       'BROOKFIELD', 'SHELTON', 'NORWICH', 'NAUGATUCK', 'VERNON',\n",
       "       'FAIRFIELD', 'EAST HAMPTON', 'SHARON', 'MONROE', 'WINCHESTER',\n",
       "       'BRANFORD', 'MANCHESTER', 'WOLCOTT', 'WEST SUFFIELD', 'FARMINGTON',\n",
       "       'NORTH BRANFORD', 'NEW MILFORD', 'STONINGTON', 'PRESTON', 'GROTON',\n",
       "       'SOUTHINGTON', 'SOUTH WINDSOR', 'JEWETT CITY', 'EAST WINDSOR',\n",
       "       'OLD SAYBROOK', 'BROAD BROOK', 'PORTLAND', 'HEBRON', 'DARIEN',\n",
       "       'LEDYARD', 'TRUMBULL', 'BURLINGTON', 'BLOOMFIELD', 'TERRYVILLE',\n",
       "       'STAFFORD SPRINGS', 'WEST HAVEN', 'THOMPSON', 'OXFORD',\n",
       "       'DANIELSON', 'POMFRET', 'MARLBOROUGH', 'OAKVILLE', 'NEWTOWN',\n",
       "       'ROCKY HILL', 'EAST HAVEN', 'HAMDEN', 'AVON', 'SEYMOUR',\n",
       "       'PLAINVILLE', 'COLCHESTER', 'SOUTHBURY', 'STAFFORD', 'ANSONIA',\n",
       "       'MOOSUP', 'KILLINGLY', 'BEACON FALLS', 'CLINTON', 'OLD LYME',\n",
       "       'SANDY HOOK', 'BROOKLYN', 'UNCASVILLE', 'WINDSOR', 'WOODBURY',\n",
       "       'FRANKLIN', 'SALISBURY', 'WASHINGTON', 'BRIDGEWATER', 'BETHEL',\n",
       "       'BANTAM', 'MYSTIC', 'WILTON', 'WINDSOR LOCKS', 'LEBANON',\n",
       "       'GLASTONBURY', 'QUAKER HILL', 'WOODSTOCK', 'COVENTRY', 'COLUMBIA',\n",
       "       'BERLIN', 'PUTNAM', 'SALEM', 'ESSEX', 'PLAINFIELD', 'WETHERSFIELD',\n",
       "       'CANTON', 'DURHAM', 'CANTERBURY', 'SUFFIELD', 'SIMSBURY',\n",
       "       'NORTH CANAAN', 'WATERFORD', 'KILLINGWORTH', 'CROMWELL',\n",
       "       'WILLINGTON', 'MIDDLEFIELD', 'VOLUNTOWN', 'THOMASTON', 'NEWINGTON',\n",
       "       'MORRIS', 'ASHFORD', 'DEEP RIVER', 'CENTRAL VILLAGE', 'EAST LYME',\n",
       "       'MADISON', 'UNIONVILLE', 'WINSTED', 'HARWINTON', 'WOODBRIDGE',\n",
       "       'WESTBROOK', 'BETHANY', 'NIANTIC', 'CHESHIRE', 'QUINEBAUG',\n",
       "       'TOLLAND', 'MANSFIELD', 'WAUREGAN', 'PAWCATUCK', 'GRISWOLD',\n",
       "       'STORRS', 'VERNON-ROCKVILLE', 'SHERMAN', 'LISBON', 'DAYVILLE',\n",
       "       'EAST GRANBY', 'REDDING', 'GALES FERRY', 'PLYMOUTH', 'NORTH HAVEN',\n",
       "       'N HAVEN', 'ELLINGTON', 'MIDDLEBURY', 'CORNWALL BRIDGE', 'HANOVER',\n",
       "       'STERLING', 'NORTH GROSVENORDALE', 'NEW HARTFORD', 'BOLTON',\n",
       "       'HAMPTON', 'BETHLEHEM', 'TARIFFVILLE', 'PROSPECT', 'GUILFORD',\n",
       "       'NEW FAIRFIELD', 'NORTH WINDAM', 'OAKDALE', 'EASTON',\n",
       "       'EAST HADDAM', 'GROTON LONG POINT', 'BARKHAMSTED', 'HIGGANUM',\n",
       "       'NO HAVEN', 'TAFTVILLE', 'STAFFORD SPGS', 'IVORYTON', 'LITCHFIELD',\n",
       "       'PLANTSVILLE', 'ORANGE', 'CHAPLIN', 'NORTH STONINGTON', 'SPRAGUE',\n",
       "       'ANDOVER', 'EAST HARTLAND', 'CHESTER', 'WESTPORT', 'W HAVEN',\n",
       "       'WESTON', 'ROCKVILLE', 'MOODUS', 'NORTH GRANBY', 'EAST CANAAN',\n",
       "       'NORTHFORD', 'GRANBY', 'NEW CANAAN', 'WEST STAFFORD', 'ONECO',\n",
       "       'NEW PRESTON', 'WEATOGUE', 'WARREN', 'HADDAM', 'EASTFORD', 'KENT',\n",
       "       'BOZRAH', 'S GLASTONBURY', 'NORTH WINDHAM', 'BAKERSVILLE',\n",
       "       'AMSTON', 'GOSHEN', 'NEW CANNAN', 'EAST WOODSTOCK', 'ROGERS',\n",
       "       '06340', 'NORFOLK'], dtype=object)"
      ]
     },
     "execution_count": 25,
     "metadata": {},
     "output_type": "execute_result"
    }
   ],
   "source": [
    "data['DeathCity'].unique()"
   ]
  },
  {
   "cell_type": "code",
   "execution_count": 26,
   "metadata": {},
   "outputs": [
    {
     "name": "stderr",
     "output_type": "stream",
     "text": [
      "C:\\Users\\sznik\\Anaconda3\\lib\\site-packages\\ipykernel_launcher.py:1: SettingWithCopyWarning: \n",
      "A value is trying to be set on a copy of a slice from a DataFrame.\n",
      "Try using .loc[row_indexer,col_indexer] = value instead\n",
      "\n",
      "See the caveats in the documentation: https://pandas.pydata.org/pandas-docs/stable/user_guide/indexing.html#returning-a-view-versus-a-copy\n",
      "  \"\"\"Entry point for launching an IPython kernel.\n",
      "C:\\Users\\sznik\\Anaconda3\\lib\\site-packages\\ipykernel_launcher.py:2: SettingWithCopyWarning: \n",
      "A value is trying to be set on a copy of a slice from a DataFrame.\n",
      "Try using .loc[row_indexer,col_indexer] = value instead\n",
      "\n",
      "See the caveats in the documentation: https://pandas.pydata.org/pandas-docs/stable/user_guide/indexing.html#returning-a-view-versus-a-copy\n",
      "  \n"
     ]
    },
    {
     "data": {
      "text/plain": [
       "array(['unknown', 'norwalk', 'danbury', 'greenwich', 'bristol',\n",
       "       'west hartford', 'new haven', 'east hartford', 'montville',\n",
       "       'stratford', 'hartford', 'wallingford', 'middletown', 'windham',\n",
       "       'bridgeport', 'derby', 'cos cob', 'meriden', 'enfield',\n",
       "       'torrington', 'waterbury', 'mashantucket', 'milford', 'somers',\n",
       "       'stamford', 'new britain', 'willimantic', 'watertown', 'baltic',\n",
       "       'ridgefield', 'new london', 'brookfield', 'shelton', 'norwich',\n",
       "       'naugatuck', 'vernon', 'fairfield', 'east hampton', 'sharon',\n",
       "       'monroe', 'winchester', 'branford', 'manchester', 'wolcott',\n",
       "       'west suffield', 'farmington', 'north branford', 'new milford',\n",
       "       'stonington', 'preston', 'groton', 'southington', 'south windsor',\n",
       "       'jewett city', 'east windsor', 'old saybrook', 'broad brook',\n",
       "       'portland', 'hebron', 'darien', 'ledyard', 'trumbull',\n",
       "       'burlington', 'bloomfield', 'terryville', 'stafford springs',\n",
       "       'west haven', 'thompson', 'oxford', 'danielson', 'pomfret',\n",
       "       'marlborough', 'oakville', 'newtown', 'rocky hill', 'east haven',\n",
       "       'hamden', 'avon', 'seymour', 'plainville', 'colchester',\n",
       "       'southbury', 'stafford', 'ansonia', 'moosup', 'killingly',\n",
       "       'beacon falls', 'clinton', 'old lyme', 'sandy hook', 'brooklyn',\n",
       "       'uncasville', 'windsor', 'woodbury', 'franklin', 'salisbury',\n",
       "       'washington', 'bridgewater', 'bethel', 'bantam', 'mystic',\n",
       "       'wilton', 'windsor locks', 'lebanon', 'glastonbury', 'quaker hill',\n",
       "       'woodstock', 'coventry', 'columbia', 'berlin', 'putnam', 'salem',\n",
       "       'essex', 'plainfield', 'wethersfield', 'canton', 'durham',\n",
       "       'canterbury', 'suffield', 'simsbury', 'north canaan', 'waterford',\n",
       "       'killingworth', 'cromwell', 'willington', 'middlefield',\n",
       "       'voluntown', 'thomaston', 'newington', 'morris', 'ashford',\n",
       "       'deep river', 'central village', 'east lyme', 'madison',\n",
       "       'unionville', 'winsted', 'harwinton', 'woodbridge', 'westbrook',\n",
       "       'bethany', 'niantic', 'cheshire', 'quinebaug', 'tolland',\n",
       "       'mansfield', 'wauregan', 'pawcatuck', 'griswold', 'storrs',\n",
       "       'vernon-rockville', 'sherman', 'lisbon', 'dayville', 'east granby',\n",
       "       'redding', 'gales ferry', 'plymouth', 'north haven', 'n haven',\n",
       "       'ellington', 'middlebury', 'cornwall bridge', 'hanover',\n",
       "       'sterling', 'north grosvenordale', 'new hartford', 'bolton',\n",
       "       'hampton', 'bethlehem', 'tariffville', 'prospect', 'guilford',\n",
       "       'new fairfield', 'north windam', 'oakdale', 'easton',\n",
       "       'east haddam', 'groton long point', 'barkhamsted', 'higganum',\n",
       "       'no haven', 'taftville', 'stafford spgs', 'ivoryton', 'litchfield',\n",
       "       'plantsville', 'orange', 'chaplin', 'north stonington', 'sprague',\n",
       "       'andover', 'east hartland', 'chester', 'westport', 'w haven',\n",
       "       'weston', 'rockville', 'moodus', 'north granby', 'east canaan',\n",
       "       'northford', 'granby', 'new canaan', 'west stafford', 'oneco',\n",
       "       'new preston', 'weatogue', 'warren', 'haddam', 'eastford', 'kent',\n",
       "       'bozrah', 's glastonbury', 'north windham', 'bakersville',\n",
       "       'amston', 'goshen', 'new cannan', 'east woodstock', 'rogers',\n",
       "       '06340', 'norfolk'], dtype=object)"
      ]
     },
     "execution_count": 26,
     "metadata": {},
     "output_type": "execute_result"
    }
   ],
   "source": [
    "data['DeathCity'] = data['DeathCity'].replace(np.nan, 'Unknown')\n",
    "data['DeathCity'] = data['DeathCity'].str.lower()\n",
    "data['DeathCity'].unique()"
   ]
  },
  {
   "cell_type": "code",
   "execution_count": 27,
   "metadata": {},
   "outputs": [
    {
     "data": {
      "text/plain": [
       "array([nan, 'FAIRFIELD', 'HARTFORD', 'NEW HAVEN', 'NEW LONDON',\n",
       "       'LITCHFIELD', 'MIDDLESEX', 'WINDHAM', 'TOLLAND', 'USA'],\n",
       "      dtype=object)"
      ]
     },
     "execution_count": 27,
     "metadata": {},
     "output_type": "execute_result"
    }
   ],
   "source": [
    "data['DeathCounty'].unique()"
   ]
  },
  {
   "cell_type": "code",
   "execution_count": 28,
   "metadata": {},
   "outputs": [
    {
     "name": "stderr",
     "output_type": "stream",
     "text": [
      "C:\\Users\\sznik\\Anaconda3\\lib\\site-packages\\ipykernel_launcher.py:1: SettingWithCopyWarning: \n",
      "A value is trying to be set on a copy of a slice from a DataFrame.\n",
      "Try using .loc[row_indexer,col_indexer] = value instead\n",
      "\n",
      "See the caveats in the documentation: https://pandas.pydata.org/pandas-docs/stable/user_guide/indexing.html#returning-a-view-versus-a-copy\n",
      "  \"\"\"Entry point for launching an IPython kernel.\n",
      "C:\\Users\\sznik\\Anaconda3\\lib\\site-packages\\ipykernel_launcher.py:2: SettingWithCopyWarning: \n",
      "A value is trying to be set on a copy of a slice from a DataFrame.\n",
      "Try using .loc[row_indexer,col_indexer] = value instead\n",
      "\n",
      "See the caveats in the documentation: https://pandas.pydata.org/pandas-docs/stable/user_guide/indexing.html#returning-a-view-versus-a-copy\n",
      "  \n"
     ]
    },
    {
     "data": {
      "text/plain": [
       "array(['unknown', 'fairfield', 'hartford', 'new haven', 'new london',\n",
       "       'litchfield', 'middlesex', 'windham', 'tolland', 'usa'],\n",
       "      dtype=object)"
      ]
     },
     "execution_count": 28,
     "metadata": {},
     "output_type": "execute_result"
    }
   ],
   "source": [
    "data['DeathCounty'] = data['DeathCounty'].replace(np.nan, 'Unknown')\n",
    "data['DeathCounty'] = data['DeathCounty'].str.lower()\n",
    "data['DeathCounty'].unique()"
   ]
  },
  {
   "cell_type": "code",
   "execution_count": 29,
   "metadata": {},
   "outputs": [
    {
     "data": {
      "text/plain": [
       "Index(['ID', 'Date', 'DateType', 'Age', 'Sex', 'Race', 'DeathCity',\n",
       "       'DeathCounty', 'COD', 'Heroin', 'Cocaine', 'Fentanyl',\n",
       "       'FentanylAnalogue', 'Oxycodone', 'Oxymorphone', 'Ethanol',\n",
       "       'Hydrocodone', 'Benzodiazepine', 'Methadone', 'Amphet', 'Tramad',\n",
       "       'Morphine_NotHeroin', 'Hydromorphone', 'Other', 'OpiateNOS',\n",
       "       'AnyOpioid', 'MannerofDeath'],\n",
       "      dtype='object')"
      ]
     },
     "execution_count": 29,
     "metadata": {},
     "output_type": "execute_result"
    }
   ],
   "source": [
    "data.columns"
   ]
  },
  {
   "cell_type": "code",
   "execution_count": 30,
   "metadata": {},
   "outputs": [
    {
     "data": {
      "text/plain": [
       "array(['Acute fent, hydrocod, benzodiazepine', 'Cocaine Intoxication',\n",
       "       'Acute Heroin and Cocaine Intoxication', ...,\n",
       "       'Acute Intoxication due to the Combined Effects of Ethanol, Diazepam, and Chlordiazepoxide',\n",
       "       'Multidrug Toxicity Including Heroin, Alprazolam, and Clonazepam',\n",
       "       'Multidrug Toxicity Including Heroin, Fentanyl, 4-ANPP, para-Fluoroisobutyrylfentanyl, and Tramadol'],\n",
       "      dtype=object)"
      ]
     },
     "execution_count": 30,
     "metadata": {},
     "output_type": "execute_result"
    }
   ],
   "source": [
    "data['COD'].unique()"
   ]
  },
  {
   "cell_type": "code",
   "execution_count": 31,
   "metadata": {},
   "outputs": [
    {
     "name": "stderr",
     "output_type": "stream",
     "text": [
      "C:\\Users\\sznik\\Anaconda3\\lib\\site-packages\\ipykernel_launcher.py:1: SettingWithCopyWarning: \n",
      "A value is trying to be set on a copy of a slice from a DataFrame.\n",
      "Try using .loc[row_indexer,col_indexer] = value instead\n",
      "\n",
      "See the caveats in the documentation: https://pandas.pydata.org/pandas-docs/stable/user_guide/indexing.html#returning-a-view-versus-a-copy\n",
      "  \"\"\"Entry point for launching an IPython kernel.\n",
      "C:\\Users\\sznik\\Anaconda3\\lib\\site-packages\\ipykernel_launcher.py:2: SettingWithCopyWarning: \n",
      "A value is trying to be set on a copy of a slice from a DataFrame.\n",
      "Try using .loc[row_indexer,col_indexer] = value instead\n",
      "\n",
      "See the caveats in the documentation: https://pandas.pydata.org/pandas-docs/stable/user_guide/indexing.html#returning-a-view-versus-a-copy\n",
      "  \n"
     ]
    },
    {
     "data": {
      "text/plain": [
       "array(['acute fent, hydrocod, benzodiazepine', 'cocaine intoxication',\n",
       "       'acute heroin and cocaine intoxication', ...,\n",
       "       'acute intoxication due to the combined effects of ethanol, diazepam, and chlordiazepoxide',\n",
       "       'multidrug toxicity including heroin, alprazolam, and clonazepam',\n",
       "       'multidrug toxicity including heroin, fentanyl, 4-anpp, para-fluoroisobutyrylfentanyl, and tramadol'],\n",
       "      dtype=object)"
      ]
     },
     "execution_count": 31,
     "metadata": {},
     "output_type": "execute_result"
    }
   ],
   "source": [
    "data['COD'] = data['COD'].replace(np.nan, 'Unknown')\n",
    "data['COD'] = data['COD'].str.lower()\n",
    "data['COD'].unique()"
   ]
  },
  {
   "cell_type": "code",
   "execution_count": 32,
   "metadata": {},
   "outputs": [
    {
     "data": {
      "text/plain": [
       "array([nan, 'Y'], dtype=object)"
      ]
     },
     "execution_count": 32,
     "metadata": {},
     "output_type": "execute_result"
    }
   ],
   "source": [
    "data['Heroin'].unique()"
   ]
  },
  {
   "cell_type": "code",
   "execution_count": 33,
   "metadata": {},
   "outputs": [
    {
     "name": "stderr",
     "output_type": "stream",
     "text": [
      "C:\\Users\\sznik\\Anaconda3\\lib\\site-packages\\ipykernel_launcher.py:1: SettingWithCopyWarning: \n",
      "A value is trying to be set on a copy of a slice from a DataFrame.\n",
      "Try using .loc[row_indexer,col_indexer] = value instead\n",
      "\n",
      "See the caveats in the documentation: https://pandas.pydata.org/pandas-docs/stable/user_guide/indexing.html#returning-a-view-versus-a-copy\n",
      "  \"\"\"Entry point for launching an IPython kernel.\n"
     ]
    }
   ],
   "source": [
    "data['Heroin'] = data['Heroin'].replace(np.nan, 'No')"
   ]
  },
  {
   "cell_type": "code",
   "execution_count": 34,
   "metadata": {},
   "outputs": [
    {
     "name": "stderr",
     "output_type": "stream",
     "text": [
      "C:\\Users\\sznik\\Anaconda3\\lib\\site-packages\\ipykernel_launcher.py:1: SettingWithCopyWarning: \n",
      "A value is trying to be set on a copy of a slice from a DataFrame.\n",
      "Try using .loc[row_indexer,col_indexer] = value instead\n",
      "\n",
      "See the caveats in the documentation: https://pandas.pydata.org/pandas-docs/stable/user_guide/indexing.html#returning-a-view-versus-a-copy\n",
      "  \"\"\"Entry point for launching an IPython kernel.\n"
     ]
    }
   ],
   "source": [
    "data['Heroin'] = data['Heroin'].replace('Y', 'Yes')"
   ]
  },
  {
   "cell_type": "code",
   "execution_count": 35,
   "metadata": {},
   "outputs": [
    {
     "data": {
      "text/plain": [
       "array(['No', 'Yes'], dtype=object)"
      ]
     },
     "execution_count": 35,
     "metadata": {},
     "output_type": "execute_result"
    }
   ],
   "source": [
    "data['Heroin'].unique()"
   ]
  },
  {
   "cell_type": "code",
   "execution_count": 36,
   "metadata": {},
   "outputs": [
    {
     "name": "stderr",
     "output_type": "stream",
     "text": [
      "C:\\Users\\sznik\\Anaconda3\\lib\\site-packages\\ipykernel_launcher.py:1: SettingWithCopyWarning: \n",
      "A value is trying to be set on a copy of a slice from a DataFrame.\n",
      "Try using .loc[row_indexer,col_indexer] = value instead\n",
      "\n",
      "See the caveats in the documentation: https://pandas.pydata.org/pandas-docs/stable/user_guide/indexing.html#returning-a-view-versus-a-copy\n",
      "  \"\"\"Entry point for launching an IPython kernel.\n",
      "C:\\Users\\sznik\\Anaconda3\\lib\\site-packages\\ipykernel_launcher.py:2: SettingWithCopyWarning: \n",
      "A value is trying to be set on a copy of a slice from a DataFrame.\n",
      "Try using .loc[row_indexer,col_indexer] = value instead\n",
      "\n",
      "See the caveats in the documentation: https://pandas.pydata.org/pandas-docs/stable/user_guide/indexing.html#returning-a-view-versus-a-copy\n",
      "  \n"
     ]
    },
    {
     "data": {
      "text/plain": [
       "array(['No', 'Yes'], dtype=object)"
      ]
     },
     "execution_count": 36,
     "metadata": {},
     "output_type": "execute_result"
    }
   ],
   "source": [
    "data['Cocaine'] = data['Cocaine'].replace(np.nan, 'No')\n",
    "data['Cocaine'] = data['Cocaine'].replace('Y', 'Yes')\n",
    "data['Cocaine'].unique()"
   ]
  },
  {
   "cell_type": "code",
   "execution_count": 37,
   "metadata": {},
   "outputs": [
    {
     "name": "stderr",
     "output_type": "stream",
     "text": [
      "C:\\Users\\sznik\\Anaconda3\\lib\\site-packages\\ipykernel_launcher.py:1: SettingWithCopyWarning: \n",
      "A value is trying to be set on a copy of a slice from a DataFrame.\n",
      "Try using .loc[row_indexer,col_indexer] = value instead\n",
      "\n",
      "See the caveats in the documentation: https://pandas.pydata.org/pandas-docs/stable/user_guide/indexing.html#returning-a-view-versus-a-copy\n",
      "  \"\"\"Entry point for launching an IPython kernel.\n",
      "C:\\Users\\sznik\\Anaconda3\\lib\\site-packages\\ipykernel_launcher.py:2: SettingWithCopyWarning: \n",
      "A value is trying to be set on a copy of a slice from a DataFrame.\n",
      "Try using .loc[row_indexer,col_indexer] = value instead\n",
      "\n",
      "See the caveats in the documentation: https://pandas.pydata.org/pandas-docs/stable/user_guide/indexing.html#returning-a-view-versus-a-copy\n",
      "  \n"
     ]
    },
    {
     "data": {
      "text/plain": [
       "array(['Yes', 'No', 'Y-A', 'Y POPS', 'Y (PTCH)'], dtype=object)"
      ]
     },
     "execution_count": 37,
     "metadata": {},
     "output_type": "execute_result"
    }
   ],
   "source": [
    "data['Fentanyl'] = data['Fentanyl'].replace(np.nan, 'No')\n",
    "data['Fentanyl'] = data['Fentanyl'].replace('Y', 'Yes')\n",
    "data['Fentanyl'].unique()"
   ]
  },
  {
   "cell_type": "code",
   "execution_count": 38,
   "metadata": {},
   "outputs": [
    {
     "name": "stderr",
     "output_type": "stream",
     "text": [
      "C:\\Users\\sznik\\Anaconda3\\lib\\site-packages\\ipykernel_launcher.py:4: SettingWithCopyWarning: \n",
      "A value is trying to be set on a copy of a slice from a DataFrame.\n",
      "Try using .loc[row_indexer,col_indexer] = value instead\n",
      "\n",
      "See the caveats in the documentation: https://pandas.pydata.org/pandas-docs/stable/user_guide/indexing.html#returning-a-view-versus-a-copy\n",
      "  after removing the cwd from sys.path.\n",
      "C:\\Users\\sznik\\Anaconda3\\lib\\site-packages\\ipykernel_launcher.py:5: SettingWithCopyWarning: \n",
      "A value is trying to be set on a copy of a slice from a DataFrame.\n",
      "Try using .loc[row_indexer,col_indexer] = value instead\n",
      "\n",
      "See the caveats in the documentation: https://pandas.pydata.org/pandas-docs/stable/user_guide/indexing.html#returning-a-view-versus-a-copy\n",
      "  \"\"\"\n"
     ]
    }
   ],
   "source": [
    "for i in data[['FentanylAnalogue', 'Oxycodone', 'Oxymorphone', 'Ethanol',\n",
    "               'Hydrocodone', 'Benzodiazepine', 'Methadone', 'Amphet', 'Tramad',\n",
    "               'Morphine_NotHeroin', 'Hydromorphone']]:\n",
    "    data[i] = data[i].replace(np.nan, 'No')\n",
    "    data[i] = data[i].replace('Y', 'Yes')\n",
    "    data[i].unique()"
   ]
  },
  {
   "cell_type": "code",
   "execution_count": 39,
   "metadata": {},
   "outputs": [
    {
     "data": {
      "text/plain": [
       "Index(['ID', 'Date', 'DateType', 'Age', 'Sex', 'Race', 'DeathCity',\n",
       "       'DeathCounty', 'COD', 'Heroin', 'Cocaine', 'Fentanyl',\n",
       "       'FentanylAnalogue', 'Oxycodone', 'Oxymorphone', 'Ethanol',\n",
       "       'Hydrocodone', 'Benzodiazepine', 'Methadone', 'Amphet', 'Tramad',\n",
       "       'Morphine_NotHeroin', 'Hydromorphone', 'Other', 'OpiateNOS',\n",
       "       'AnyOpioid', 'MannerofDeath'],\n",
       "      dtype='object')"
      ]
     },
     "execution_count": 39,
     "metadata": {},
     "output_type": "execute_result"
    }
   ],
   "source": [
    "data.columns"
   ]
  },
  {
   "cell_type": "code",
   "execution_count": 40,
   "metadata": {},
   "outputs": [
    {
     "name": "stderr",
     "output_type": "stream",
     "text": [
      "C:\\Users\\sznik\\Anaconda3\\lib\\site-packages\\ipykernel_launcher.py:1: SettingWithCopyWarning: \n",
      "A value is trying to be set on a copy of a slice from a DataFrame.\n",
      "Try using .loc[row_indexer,col_indexer] = value instead\n",
      "\n",
      "See the caveats in the documentation: https://pandas.pydata.org/pandas-docs/stable/user_guide/indexing.html#returning-a-view-versus-a-copy\n",
      "  \"\"\"Entry point for launching an IPython kernel.\n",
      "C:\\Users\\sznik\\Anaconda3\\lib\\site-packages\\ipykernel_launcher.py:2: SettingWithCopyWarning: \n",
      "A value is trying to be set on a copy of a slice from a DataFrame.\n",
      "Try using .loc[row_indexer,col_indexer] = value instead\n",
      "\n",
      "See the caveats in the documentation: https://pandas.pydata.org/pandas-docs/stable/user_guide/indexing.html#returning-a-view-versus-a-copy\n",
      "  \n"
     ]
    },
    {
     "data": {
      "text/plain": [
       "array(['unknown', 'bupren', 'lsd, hydromorph', 'opiate', 'hydromorph',\n",
       "       'others', 'pcp', 'ketamine', 'meperidine', 'opiate screen', 'mdma',\n",
       "       'cod', 'parox', 'carfentanil', 'duster', 'diphenhydramine',\n",
       "       'buprenor', 'hydro morph', 'bupre', 'morphine', 'morph',\n",
       "       'hyd-morph', 'u47700', 'dox, diphen', 'opiates',\n",
       "       'buprenor, carfentanil', 'sert', 'tapentadol', '4-anpp',\n",
       "       'methoxypcp', 'n-ethyl-pentylone', 'pcp, hydromorph',\n",
       "       'mirtagynine', 'uk', 'hydromorp', 'u-47700', 'difluro',\n",
       "       'diphenhydramine, zolpidem', 'buprenorphine', 'h-morph',\n",
       "       'buprenorp', 'u-47700 synthetic opioid', 'buprnor', 'morphine rx',\n",
       "       'opioid', 'opioid nos', 'cathinone', 'loperamide', 'codeine',\n",
       "       'ghb', 'butalbital', 'pcp, n-ethyl-pentylone', 'bupren, hexadrone',\n",
       "       'hydr-mor', 'pos 6-mam', 'rx morphine', 'bupreno',\n",
       "       'morphine no 6mam', 'u-47700, carfentanil', 'mitragine',\n",
       "       'buprenorphone', 'mdma, pcp', 'diphenhy', 'opiate in hosp?',\n",
       "       'hydromorph, buprenor', 'quiet', 'hydrom', 'difluror', 'ket',\n",
       "       'buprenorph', 'bath salt', 'mitragynine', 'morphine/hydromorph',\n",
       "       '2-a', 'pcp. bupren', 'buprop', 'topiramate', 'snorted',\n",
       "       'hydrmorp', 'mdma, n-ethyl-pentylone', 'butalb',\n",
       "       'bupren, difluoro', 'zolpidem', 'difluor', 'buprenophine',\n",
       "       'morphiine', 'diphenh', 'pcp, morphine nos', 'doxy, phenobarb',\n",
       "       'pcp, buprenor', 'morphin', 'diflouro', 'morphine/cod',\n",
       "       'morphine, hydromorph', 'morph nos', 'difluoroeth', 'morph/cod',\n",
       "       'morphine, no rx in pmp', 'phenobarb', 'hyromorph', 'zolp',\n",
       "       'buprno', 'diphen, chlorphen', 'hydmorph', 'pseudo', 'morph pcp'],\n",
       "      dtype=object)"
      ]
     },
     "execution_count": 40,
     "metadata": {},
     "output_type": "execute_result"
    }
   ],
   "source": [
    "data['Other'] = data['Other'].str.lower()\n",
    "data['Other'] = data['Other'].replace(np.nan, 'unknown')\n",
    "data[\"Other\"].unique()"
   ]
  },
  {
   "cell_type": "code",
   "execution_count": 41,
   "metadata": {},
   "outputs": [
    {
     "name": "stderr",
     "output_type": "stream",
     "text": [
      "C:\\Users\\sznik\\Anaconda3\\lib\\site-packages\\ipykernel_launcher.py:1: SettingWithCopyWarning: \n",
      "A value is trying to be set on a copy of a slice from a DataFrame.\n",
      "Try using .loc[row_indexer,col_indexer] = value instead\n",
      "\n",
      "See the caveats in the documentation: https://pandas.pydata.org/pandas-docs/stable/user_guide/indexing.html#returning-a-view-versus-a-copy\n",
      "  \"\"\"Entry point for launching an IPython kernel.\n",
      "C:\\Users\\sznik\\Anaconda3\\lib\\site-packages\\ipykernel_launcher.py:2: SettingWithCopyWarning: \n",
      "A value is trying to be set on a copy of a slice from a DataFrame.\n",
      "Try using .loc[row_indexer,col_indexer] = value instead\n",
      "\n",
      "See the caveats in the documentation: https://pandas.pydata.org/pandas-docs/stable/user_guide/indexing.html#returning-a-view-versus-a-copy\n",
      "  \n"
     ]
    },
    {
     "data": {
      "text/plain": [
       "array(['No', 'Yes'], dtype=object)"
      ]
     },
     "execution_count": 41,
     "metadata": {},
     "output_type": "execute_result"
    }
   ],
   "source": [
    "data['OpiateNOS'] = data['OpiateNOS'].replace(np.nan, 'No')\n",
    "data['OpiateNOS'] = data['OpiateNOS'].replace('Y', 'Yes')\n",
    "data['OpiateNOS'].unique()"
   ]
  },
  {
   "cell_type": "code",
   "execution_count": 42,
   "metadata": {},
   "outputs": [
    {
     "data": {
      "text/plain": [
       "array([nan, 'Y', 'N'], dtype=object)"
      ]
     },
     "execution_count": 42,
     "metadata": {},
     "output_type": "execute_result"
    }
   ],
   "source": [
    "data['AnyOpioid'].unique()"
   ]
  },
  {
   "cell_type": "code",
   "execution_count": 43,
   "metadata": {},
   "outputs": [
    {
     "name": "stderr",
     "output_type": "stream",
     "text": [
      "C:\\Users\\sznik\\Anaconda3\\lib\\site-packages\\ipykernel_launcher.py:1: SettingWithCopyWarning: \n",
      "A value is trying to be set on a copy of a slice from a DataFrame.\n",
      "Try using .loc[row_indexer,col_indexer] = value instead\n",
      "\n",
      "See the caveats in the documentation: https://pandas.pydata.org/pandas-docs/stable/user_guide/indexing.html#returning-a-view-versus-a-copy\n",
      "  \"\"\"Entry point for launching an IPython kernel.\n",
      "C:\\Users\\sznik\\Anaconda3\\lib\\site-packages\\ipykernel_launcher.py:2: SettingWithCopyWarning: \n",
      "A value is trying to be set on a copy of a slice from a DataFrame.\n",
      "Try using .loc[row_indexer,col_indexer] = value instead\n",
      "\n",
      "See the caveats in the documentation: https://pandas.pydata.org/pandas-docs/stable/user_guide/indexing.html#returning-a-view-versus-a-copy\n",
      "  \n",
      "C:\\Users\\sznik\\Anaconda3\\lib\\site-packages\\ipykernel_launcher.py:3: SettingWithCopyWarning: \n",
      "A value is trying to be set on a copy of a slice from a DataFrame.\n",
      "Try using .loc[row_indexer,col_indexer] = value instead\n",
      "\n",
      "See the caveats in the documentation: https://pandas.pydata.org/pandas-docs/stable/user_guide/indexing.html#returning-a-view-versus-a-copy\n",
      "  This is separate from the ipykernel package so we can avoid doing imports until\n"
     ]
    },
    {
     "data": {
      "text/plain": [
       "array(['Unknown', 'Yes', 'No'], dtype=object)"
      ]
     },
     "execution_count": 43,
     "metadata": {},
     "output_type": "execute_result"
    }
   ],
   "source": [
    "data['AnyOpioid'] = data['AnyOpioid'].replace(np.nan, 'Unknown')\n",
    "data['AnyOpioid'] = data['AnyOpioid'].replace('Y', 'Yes')\n",
    "data['AnyOpioid'] = data['AnyOpioid'].replace('N', 'No')\n",
    "data['AnyOpioid'].unique()"
   ]
  },
  {
   "cell_type": "code",
   "execution_count": 44,
   "metadata": {},
   "outputs": [
    {
     "data": {
      "text/plain": [
       "Index(['ID', 'Date', 'DateType', 'Age', 'Sex', 'Race', 'DeathCity',\n",
       "       'DeathCounty', 'COD', 'Heroin', 'Cocaine', 'Fentanyl',\n",
       "       'FentanylAnalogue', 'Oxycodone', 'Oxymorphone', 'Ethanol',\n",
       "       'Hydrocodone', 'Benzodiazepine', 'Methadone', 'Amphet', 'Tramad',\n",
       "       'Morphine_NotHeroin', 'Hydromorphone', 'Other', 'OpiateNOS',\n",
       "       'AnyOpioid', 'MannerofDeath'],\n",
       "      dtype='object')"
      ]
     },
     "execution_count": 44,
     "metadata": {},
     "output_type": "execute_result"
    }
   ],
   "source": [
    "data.columns"
   ]
  },
  {
   "cell_type": "code",
   "execution_count": 45,
   "metadata": {},
   "outputs": [
    {
     "data": {
      "text/plain": [
       "array(['accident', 'unknown', 'pending', 'natural'], dtype=object)"
      ]
     },
     "execution_count": 45,
     "metadata": {},
     "output_type": "execute_result"
    }
   ],
   "source": [
    "data['MannerofDeath'].unique()"
   ]
  },
  {
   "cell_type": "code",
   "execution_count": 46,
   "metadata": {},
   "outputs": [
    {
     "data": {
      "text/plain": [
       "ID                    0\n",
       "Date                  2\n",
       "DateType              2\n",
       "Age                   0\n",
       "Sex                   0\n",
       "Race                  0\n",
       "DeathCity             0\n",
       "DeathCounty           0\n",
       "COD                   0\n",
       "Heroin                0\n",
       "Cocaine               0\n",
       "Fentanyl              0\n",
       "FentanylAnalogue      0\n",
       "Oxycodone             0\n",
       "Oxymorphone           0\n",
       "Ethanol               0\n",
       "Hydrocodone           0\n",
       "Benzodiazepine        0\n",
       "Methadone             0\n",
       "Amphet                0\n",
       "Tramad                0\n",
       "Morphine_NotHeroin    0\n",
       "Hydromorphone         0\n",
       "Other                 0\n",
       "OpiateNOS             0\n",
       "AnyOpioid             0\n",
       "MannerofDeath         0\n",
       "dtype: int64"
      ]
     },
     "execution_count": 46,
     "metadata": {},
     "output_type": "execute_result"
    }
   ],
   "source": [
    "data.isna().sum()"
   ]
  },
  {
   "cell_type": "code",
   "execution_count": 47,
   "metadata": {},
   "outputs": [
    {
     "data": {
      "text/plain": [
       "array(['unknown', 48.0, 30.0, 23.0, 22.0, 21.0, 40.0, 50.0, 26.0, 49.0,\n",
       "       29.0, 45.0, 42.0, 54.0, 32.0, 47.0, 39.0, 27.0, 34.0, 25.0, 51.0,\n",
       "       35.0, 43.0, 55.0, 56.0, 28.0, 67.0, 36.0, 52.0, 61.0, 53.0, 41.0,\n",
       "       31.0, 57.0, 24.0, 37.0, 38.0, 58.0, 59.0, 46.0, 64.0, 60.0, 44.0,\n",
       "       33.0, 20.0, 19.0, 66.0, 63.0, 62.0, 65.0, 71.0, 73.0, 68.0, 69.0,\n",
       "       75.0, 72.0, 18.0, 15.0, 70.0, 17.0, 74.0, 84.0, 14.0, 87.0, 81.0,\n",
       "       16.0], dtype=object)"
      ]
     },
     "execution_count": 47,
     "metadata": {},
     "output_type": "execute_result"
    }
   ],
   "source": [
    "data['Age'].unique()"
   ]
  },
  {
   "cell_type": "code",
   "execution_count": 48,
   "metadata": {},
   "outputs": [],
   "source": [
    "data = data.dropna()"
   ]
  },
  {
   "cell_type": "code",
   "execution_count": 49,
   "metadata": {},
   "outputs": [
    {
     "data": {
      "text/plain": [
       "ID                    0\n",
       "Date                  0\n",
       "DateType              0\n",
       "Age                   0\n",
       "Sex                   0\n",
       "Race                  0\n",
       "DeathCity             0\n",
       "DeathCounty           0\n",
       "COD                   0\n",
       "Heroin                0\n",
       "Cocaine               0\n",
       "Fentanyl              0\n",
       "FentanylAnalogue      0\n",
       "Oxycodone             0\n",
       "Oxymorphone           0\n",
       "Ethanol               0\n",
       "Hydrocodone           0\n",
       "Benzodiazepine        0\n",
       "Methadone             0\n",
       "Amphet                0\n",
       "Tramad                0\n",
       "Morphine_NotHeroin    0\n",
       "Hydromorphone         0\n",
       "Other                 0\n",
       "OpiateNOS             0\n",
       "AnyOpioid             0\n",
       "MannerofDeath         0\n",
       "dtype: int64"
      ]
     },
     "execution_count": 49,
     "metadata": {},
     "output_type": "execute_result"
    }
   ],
   "source": [
    "data.isna().sum()"
   ]
  },
  {
   "cell_type": "code",
   "execution_count": 50,
   "metadata": {},
   "outputs": [],
   "source": [
    "#data.to_csv('clean_drug_data.csv', index=False)"
   ]
  },
  {
   "cell_type": "code",
   "execution_count": 51,
   "metadata": {},
   "outputs": [
    {
     "data": {
      "text/plain": [
       "Index(['ID', 'Date', 'DateType', 'Age', 'Sex', 'Race', 'DeathCity',\n",
       "       'DeathCounty', 'COD', 'Heroin', 'Cocaine', 'Fentanyl',\n",
       "       'FentanylAnalogue', 'Oxycodone', 'Oxymorphone', 'Ethanol',\n",
       "       'Hydrocodone', 'Benzodiazepine', 'Methadone', 'Amphet', 'Tramad',\n",
       "       'Morphine_NotHeroin', 'Hydromorphone', 'Other', 'OpiateNOS',\n",
       "       'AnyOpioid', 'MannerofDeath'],\n",
       "      dtype='object')"
      ]
     },
     "execution_count": 51,
     "metadata": {},
     "output_type": "execute_result"
    }
   ],
   "source": [
    "data.columns"
   ]
  },
  {
   "cell_type": "code",
   "execution_count": 52,
   "metadata": {},
   "outputs": [],
   "source": [
    "conditions = [\n",
    "    (data['Heroin'] == 'Yes'),\n",
    "    (data['Cocaine'] == 'Yes'),\n",
    "    (data['Fentanyl'] == 'Yes'),\n",
    "    (data['FentanylAnalogue'] == 'Yes'),\n",
    "    (data['Oxycodone'] == 'Yes'),\n",
    "    (data['Oxymorphone'] == 'Yes'),\n",
    "    (data['Ethanol'] == 'Yes'),\n",
    "    (data['Hydrocodone'] == 'Yes'),\n",
    "    (data['Benzodiazepine'] == 'Yes'),\n",
    "    (data['Methadone'] == 'Yes'),\n",
    "    (data['Amphet'] == 'Yes'),\n",
    "    (data['Tramad'] == 'Yes'),\n",
    "    (data['Morphine_NotHeroin'] == 'Yes'),\n",
    "    (data['Hydromorphone'] == 'Yes'),]\n",
    "choices = ['Heroin', 'Cocaine', 'Fentanyl', 'FentanylAnalogue', 'Oxycodone', 'Oxymorphone', 'Ethanol', 'Hydrocodone', 'Benzodiazepine', \n",
    "          'Methadone', 'Amphet', 'Tramad', 'Morphine_NotHeroin', 'Hydromorphone']\n",
    "data['NamedDrug'] = np.select(conditions, choices, default='NULL')\n"
   ]
  },
  {
   "cell_type": "code",
   "execution_count": 53,
   "metadata": {},
   "outputs": [
    {
     "data": {
      "text/plain": [
       "array(['Fentanyl', 'Cocaine', 'Heroin', 'Oxycodone', 'Methadone',\n",
       "       'Oxymorphone', 'NULL', 'Ethanol', 'Benzodiazepine', 'Hydrocodone',\n",
       "       'Tramad', 'Amphet', 'Morphine_NotHeroin', 'FentanylAnalogue'],\n",
       "      dtype=object)"
      ]
     },
     "execution_count": 53,
     "metadata": {},
     "output_type": "execute_result"
    }
   ],
   "source": [
    "data['NamedDrug'].unique()"
   ]
  },
  {
   "cell_type": "code",
   "execution_count": 54,
   "metadata": {},
   "outputs": [
    {
     "name": "stdout",
     "output_type": "stream",
     "text": [
      "0       Fentanyl\n",
      "1        Cocaine\n",
      "2         Heroin\n",
      "3         Heroin\n",
      "4       Fentanyl\n",
      "          ...   \n",
      "5100     Ethanol\n",
      "5101      Heroin\n",
      "5102      Heroin\n",
      "5103    Fentanyl\n",
      "5104      Heroin\n",
      "Name: NamedDrug, Length: 5103, dtype: object\n"
     ]
    }
   ],
   "source": [
    "print(data['NamedDrug'])"
   ]
  },
  {
   "cell_type": "code",
   "execution_count": 55,
   "metadata": {},
   "outputs": [],
   "source": [
    "#data.to_csv('clean_drug_data.csv', index=False)"
   ]
  },
  {
   "cell_type": "code",
   "execution_count": 56,
   "metadata": {},
   "outputs": [
    {
     "data": {
      "text/plain": [
       "ID                            object\n",
       "Date                  datetime64[ns]\n",
       "DateType                      object\n",
       "Age                           object\n",
       "Sex                           object\n",
       "Race                          object\n",
       "DeathCity                     object\n",
       "DeathCounty                   object\n",
       "COD                           object\n",
       "Heroin                        object\n",
       "Cocaine                       object\n",
       "Fentanyl                      object\n",
       "FentanylAnalogue              object\n",
       "Oxycodone                     object\n",
       "Oxymorphone                   object\n",
       "Ethanol                       object\n",
       "Hydrocodone                   object\n",
       "Benzodiazepine                object\n",
       "Methadone                     object\n",
       "Amphet                        object\n",
       "Tramad                        object\n",
       "Morphine_NotHeroin            object\n",
       "Hydromorphone                 object\n",
       "Other                         object\n",
       "OpiateNOS                     object\n",
       "AnyOpioid                     object\n",
       "MannerofDeath                 object\n",
       "NamedDrug                     object\n",
       "dtype: object"
      ]
     },
     "execution_count": 56,
     "metadata": {},
     "output_type": "execute_result"
    }
   ],
   "source": [
    "data.dtypes"
   ]
  },
  {
   "cell_type": "code",
   "execution_count": 57,
   "metadata": {},
   "outputs": [],
   "source": [
    "data['Age'] = data['Age'].astype('int64', errors='ignore')"
   ]
  },
  {
   "cell_type": "code",
   "execution_count": 58,
   "metadata": {},
   "outputs": [],
   "source": [
    "df['Age'] = pd.to_numeric(df['Age'])"
   ]
  },
  {
   "cell_type": "code",
   "execution_count": 59,
   "metadata": {},
   "outputs": [
    {
     "data": {
      "text/plain": [
       "ID                            object\n",
       "Date                  datetime64[ns]\n",
       "DateType                      object\n",
       "Age                           object\n",
       "Sex                           object\n",
       "Race                          object\n",
       "DeathCity                     object\n",
       "DeathCounty                   object\n",
       "COD                           object\n",
       "Heroin                        object\n",
       "Cocaine                       object\n",
       "Fentanyl                      object\n",
       "FentanylAnalogue              object\n",
       "Oxycodone                     object\n",
       "Oxymorphone                   object\n",
       "Ethanol                       object\n",
       "Hydrocodone                   object\n",
       "Benzodiazepine                object\n",
       "Methadone                     object\n",
       "Amphet                        object\n",
       "Tramad                        object\n",
       "Morphine_NotHeroin            object\n",
       "Hydromorphone                 object\n",
       "Other                         object\n",
       "OpiateNOS                     object\n",
       "AnyOpioid                     object\n",
       "MannerofDeath                 object\n",
       "NamedDrug                     object\n",
       "dtype: object"
      ]
     },
     "execution_count": 59,
     "metadata": {},
     "output_type": "execute_result"
    }
   ],
   "source": [
    "data.dtypes"
   ]
  },
  {
   "cell_type": "code",
   "execution_count": 60,
   "metadata": {},
   "outputs": [
    {
     "ename": "TypeError",
     "evalue": "'>=' not supported between instances of 'str' and 'int'",
     "output_type": "error",
     "traceback": [
      "\u001b[1;31m---------------------------------------------------------------------------\u001b[0m",
      "\u001b[1;31mTypeError\u001b[0m                                 Traceback (most recent call last)",
      "\u001b[1;32m<ipython-input-60-db81308b2e67>\u001b[0m in \u001b[0;36m<module>\u001b[1;34m\u001b[0m\n\u001b[0;32m      1\u001b[0m conditions = [\n\u001b[1;32m----> 2\u001b[1;33m     \u001b[1;33m(\u001b[0m\u001b[0mdata\u001b[0m\u001b[1;33m[\u001b[0m\u001b[1;34m'Age'\u001b[0m\u001b[1;33m]\u001b[0m \u001b[1;33m>=\u001b[0m \u001b[1;36m10\u001b[0m\u001b[1;33m)\u001b[0m \u001b[1;33m&\u001b[0m \u001b[1;33m(\u001b[0m\u001b[0mdata\u001b[0m\u001b[1;33m[\u001b[0m\u001b[1;34m'Age'\u001b[0m\u001b[1;33m]\u001b[0m \u001b[1;33m<=\u001b[0m \u001b[1;36m20\u001b[0m\u001b[1;33m)\u001b[0m\u001b[1;33m,\u001b[0m\u001b[1;33m\u001b[0m\u001b[1;33m\u001b[0m\u001b[0m\n\u001b[0m\u001b[0;32m      3\u001b[0m     \u001b[1;33m(\u001b[0m\u001b[0mdata\u001b[0m\u001b[1;33m[\u001b[0m\u001b[1;34m'Age'\u001b[0m\u001b[1;33m]\u001b[0m \u001b[1;33m>=\u001b[0m \u001b[1;36m21\u001b[0m\u001b[1;33m)\u001b[0m \u001b[1;33m&\u001b[0m \u001b[1;33m(\u001b[0m\u001b[0mdata\u001b[0m\u001b[1;33m[\u001b[0m\u001b[1;34m'Age'\u001b[0m\u001b[1;33m]\u001b[0m \u001b[1;33m<=\u001b[0m \u001b[1;36m30\u001b[0m\u001b[1;33m)\u001b[0m\u001b[1;33m,\u001b[0m\u001b[1;33m\u001b[0m\u001b[1;33m\u001b[0m\u001b[0m\n\u001b[0;32m      4\u001b[0m     \u001b[1;33m(\u001b[0m\u001b[0mdata\u001b[0m\u001b[1;33m[\u001b[0m\u001b[1;34m'Age'\u001b[0m\u001b[1;33m]\u001b[0m \u001b[1;33m>=\u001b[0m \u001b[1;36m31\u001b[0m\u001b[1;33m)\u001b[0m \u001b[1;33m&\u001b[0m \u001b[1;33m(\u001b[0m\u001b[0mdata\u001b[0m\u001b[1;33m[\u001b[0m\u001b[1;34m'Age'\u001b[0m\u001b[1;33m]\u001b[0m \u001b[1;33m<=\u001b[0m \u001b[1;36m40\u001b[0m\u001b[1;33m)\u001b[0m\u001b[1;33m,\u001b[0m\u001b[1;33m\u001b[0m\u001b[1;33m\u001b[0m\u001b[0m\n\u001b[0;32m      5\u001b[0m     \u001b[1;33m(\u001b[0m\u001b[0mdata\u001b[0m\u001b[1;33m[\u001b[0m\u001b[1;34m'Age'\u001b[0m\u001b[1;33m]\u001b[0m \u001b[1;33m>=\u001b[0m \u001b[1;36m41\u001b[0m\u001b[1;33m)\u001b[0m \u001b[1;33m&\u001b[0m \u001b[1;33m(\u001b[0m\u001b[0mdata\u001b[0m\u001b[1;33m[\u001b[0m\u001b[1;34m'Age'\u001b[0m\u001b[1;33m]\u001b[0m \u001b[1;33m<=\u001b[0m \u001b[1;36m50\u001b[0m\u001b[1;33m)\u001b[0m\u001b[1;33m,\u001b[0m\u001b[1;33m\u001b[0m\u001b[1;33m\u001b[0m\u001b[0m\n",
      "\u001b[1;32m~\\Anaconda3\\lib\\site-packages\\pandas\\core\\ops\\common.py\u001b[0m in \u001b[0;36mnew_method\u001b[1;34m(self, other)\u001b[0m\n\u001b[0;32m     62\u001b[0m         \u001b[0mother\u001b[0m \u001b[1;33m=\u001b[0m \u001b[0mitem_from_zerodim\u001b[0m\u001b[1;33m(\u001b[0m\u001b[0mother\u001b[0m\u001b[1;33m)\u001b[0m\u001b[1;33m\u001b[0m\u001b[1;33m\u001b[0m\u001b[0m\n\u001b[0;32m     63\u001b[0m \u001b[1;33m\u001b[0m\u001b[0m\n\u001b[1;32m---> 64\u001b[1;33m         \u001b[1;32mreturn\u001b[0m \u001b[0mmethod\u001b[0m\u001b[1;33m(\u001b[0m\u001b[0mself\u001b[0m\u001b[1;33m,\u001b[0m \u001b[0mother\u001b[0m\u001b[1;33m)\u001b[0m\u001b[1;33m\u001b[0m\u001b[1;33m\u001b[0m\u001b[0m\n\u001b[0m\u001b[0;32m     65\u001b[0m \u001b[1;33m\u001b[0m\u001b[0m\n\u001b[0;32m     66\u001b[0m     \u001b[1;32mreturn\u001b[0m \u001b[0mnew_method\u001b[0m\u001b[1;33m\u001b[0m\u001b[1;33m\u001b[0m\u001b[0m\n",
      "\u001b[1;32m~\\Anaconda3\\lib\\site-packages\\pandas\\core\\ops\\__init__.py\u001b[0m in \u001b[0;36mwrapper\u001b[1;34m(self, other)\u001b[0m\n\u001b[0;32m    524\u001b[0m         \u001b[0mrvalues\u001b[0m \u001b[1;33m=\u001b[0m \u001b[0mextract_array\u001b[0m\u001b[1;33m(\u001b[0m\u001b[0mother\u001b[0m\u001b[1;33m,\u001b[0m \u001b[0mextract_numpy\u001b[0m\u001b[1;33m=\u001b[0m\u001b[1;32mTrue\u001b[0m\u001b[1;33m)\u001b[0m\u001b[1;33m\u001b[0m\u001b[1;33m\u001b[0m\u001b[0m\n\u001b[0;32m    525\u001b[0m \u001b[1;33m\u001b[0m\u001b[0m\n\u001b[1;32m--> 526\u001b[1;33m         \u001b[0mres_values\u001b[0m \u001b[1;33m=\u001b[0m \u001b[0mcomparison_op\u001b[0m\u001b[1;33m(\u001b[0m\u001b[0mlvalues\u001b[0m\u001b[1;33m,\u001b[0m \u001b[0mrvalues\u001b[0m\u001b[1;33m,\u001b[0m \u001b[0mop\u001b[0m\u001b[1;33m)\u001b[0m\u001b[1;33m\u001b[0m\u001b[1;33m\u001b[0m\u001b[0m\n\u001b[0m\u001b[0;32m    527\u001b[0m \u001b[1;33m\u001b[0m\u001b[0m\n\u001b[0;32m    528\u001b[0m         \u001b[1;32mreturn\u001b[0m \u001b[0m_construct_result\u001b[0m\u001b[1;33m(\u001b[0m\u001b[0mself\u001b[0m\u001b[1;33m,\u001b[0m \u001b[0mres_values\u001b[0m\u001b[1;33m,\u001b[0m \u001b[0mindex\u001b[0m\u001b[1;33m=\u001b[0m\u001b[0mself\u001b[0m\u001b[1;33m.\u001b[0m\u001b[0mindex\u001b[0m\u001b[1;33m,\u001b[0m \u001b[0mname\u001b[0m\u001b[1;33m=\u001b[0m\u001b[0mres_name\u001b[0m\u001b[1;33m)\u001b[0m\u001b[1;33m\u001b[0m\u001b[1;33m\u001b[0m\u001b[0m\n",
      "\u001b[1;32m~\\Anaconda3\\lib\\site-packages\\pandas\\core\\ops\\array_ops.py\u001b[0m in \u001b[0;36mcomparison_op\u001b[1;34m(left, right, op)\u001b[0m\n\u001b[0;32m    245\u001b[0m \u001b[1;33m\u001b[0m\u001b[0m\n\u001b[0;32m    246\u001b[0m     \u001b[1;32melif\u001b[0m \u001b[0mis_object_dtype\u001b[0m\u001b[1;33m(\u001b[0m\u001b[0mlvalues\u001b[0m\u001b[1;33m.\u001b[0m\u001b[0mdtype\u001b[0m\u001b[1;33m)\u001b[0m\u001b[1;33m:\u001b[0m\u001b[1;33m\u001b[0m\u001b[1;33m\u001b[0m\u001b[0m\n\u001b[1;32m--> 247\u001b[1;33m         \u001b[0mres_values\u001b[0m \u001b[1;33m=\u001b[0m \u001b[0mcomp_method_OBJECT_ARRAY\u001b[0m\u001b[1;33m(\u001b[0m\u001b[0mop\u001b[0m\u001b[1;33m,\u001b[0m \u001b[0mlvalues\u001b[0m\u001b[1;33m,\u001b[0m \u001b[0mrvalues\u001b[0m\u001b[1;33m)\u001b[0m\u001b[1;33m\u001b[0m\u001b[1;33m\u001b[0m\u001b[0m\n\u001b[0m\u001b[0;32m    248\u001b[0m \u001b[1;33m\u001b[0m\u001b[0m\n\u001b[0;32m    249\u001b[0m     \u001b[1;32melse\u001b[0m\u001b[1;33m:\u001b[0m\u001b[1;33m\u001b[0m\u001b[1;33m\u001b[0m\u001b[0m\n",
      "\u001b[1;32m~\\Anaconda3\\lib\\site-packages\\pandas\\core\\ops\\array_ops.py\u001b[0m in \u001b[0;36mcomp_method_OBJECT_ARRAY\u001b[1;34m(op, x, y)\u001b[0m\n\u001b[0;32m     55\u001b[0m         \u001b[0mresult\u001b[0m \u001b[1;33m=\u001b[0m \u001b[0mlibops\u001b[0m\u001b[1;33m.\u001b[0m\u001b[0mvec_compare\u001b[0m\u001b[1;33m(\u001b[0m\u001b[0mx\u001b[0m\u001b[1;33m.\u001b[0m\u001b[0mravel\u001b[0m\u001b[1;33m(\u001b[0m\u001b[1;33m)\u001b[0m\u001b[1;33m,\u001b[0m \u001b[0my\u001b[0m\u001b[1;33m,\u001b[0m \u001b[0mop\u001b[0m\u001b[1;33m)\u001b[0m\u001b[1;33m\u001b[0m\u001b[1;33m\u001b[0m\u001b[0m\n\u001b[0;32m     56\u001b[0m     \u001b[1;32melse\u001b[0m\u001b[1;33m:\u001b[0m\u001b[1;33m\u001b[0m\u001b[1;33m\u001b[0m\u001b[0m\n\u001b[1;32m---> 57\u001b[1;33m         \u001b[0mresult\u001b[0m \u001b[1;33m=\u001b[0m \u001b[0mlibops\u001b[0m\u001b[1;33m.\u001b[0m\u001b[0mscalar_compare\u001b[0m\u001b[1;33m(\u001b[0m\u001b[0mx\u001b[0m\u001b[1;33m.\u001b[0m\u001b[0mravel\u001b[0m\u001b[1;33m(\u001b[0m\u001b[1;33m)\u001b[0m\u001b[1;33m,\u001b[0m \u001b[0my\u001b[0m\u001b[1;33m,\u001b[0m \u001b[0mop\u001b[0m\u001b[1;33m)\u001b[0m\u001b[1;33m\u001b[0m\u001b[1;33m\u001b[0m\u001b[0m\n\u001b[0m\u001b[0;32m     58\u001b[0m     \u001b[1;32mreturn\u001b[0m \u001b[0mresult\u001b[0m\u001b[1;33m.\u001b[0m\u001b[0mreshape\u001b[0m\u001b[1;33m(\u001b[0m\u001b[0mx\u001b[0m\u001b[1;33m.\u001b[0m\u001b[0mshape\u001b[0m\u001b[1;33m)\u001b[0m\u001b[1;33m\u001b[0m\u001b[1;33m\u001b[0m\u001b[0m\n\u001b[0;32m     59\u001b[0m \u001b[1;33m\u001b[0m\u001b[0m\n",
      "\u001b[1;32mpandas\\_libs\\ops.pyx\u001b[0m in \u001b[0;36mpandas._libs.ops.scalar_compare\u001b[1;34m()\u001b[0m\n",
      "\u001b[1;31mTypeError\u001b[0m: '>=' not supported between instances of 'str' and 'int'"
     ]
    }
   ],
   "source": [
    "conditions = [\n",
    "    (data['Age'] >= 10) & (data['Age'] <= 20),\n",
    "    (data['Age'] >= 21) & (data['Age'] <= 30),\n",
    "    (data['Age'] >= 31) & (data['Age'] <= 40),\n",
    "    (data['Age'] >= 41) & (data['Age'] <= 50),\n",
    "    (data['Age'] >= 51) & (data['Age'] <= 60),\n",
    "    (data['Age'] >= 61) & (data['Age'] <= 70),\n",
    "    (data['Age'] >= 71) & (data['Age'] <= 80),\n",
    "    (data['Age'] >= 81)]\n",
    "choices = ['Teens', 'Twenties', 'Thirties', 'Fourties', 'Fifties', 'Sixties', 'Seventies', 'Above 80']\n",
    "df['AgeDecade'] = np.select(conditions, choices, default='Unknown')"
   ]
  },
  {
   "cell_type": "code",
   "execution_count": null,
   "metadata": {},
   "outputs": [],
   "source": []
  }
 ],
 "metadata": {
  "kernelspec": {
   "display_name": "Python 3",
   "language": "python",
   "name": "python3"
  },
  "language_info": {
   "codemirror_mode": {
    "name": "ipython",
    "version": 3
   },
   "file_extension": ".py",
   "mimetype": "text/x-python",
   "name": "python",
   "nbconvert_exporter": "python",
   "pygments_lexer": "ipython3",
   "version": "3.7.6"
  }
 },
 "nbformat": 4,
 "nbformat_minor": 4
}
